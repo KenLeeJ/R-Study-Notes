{
 "cells": [
  {
   "cell_type": "markdown",
   "metadata": {},
   "source": [
    "树状图（或树形图）是一种网络结构。它由一个根节点组成，根节点产生由边或分支连接的多个节点。层次结构的最后一个节点称为叶。本文主要基于R语言实现树形图的绘制。关于python实现树形图的绘制见：[基于matplotlib实现树形图的绘制](https://blog.csdn.net/luohenyj/article/details/97949476)\n",
    "\n",
    "之所以还用R语言实现树形图的绘制，主要原因在于R语言所实现的树形图比python实现的更加多样。R语言树形图提供以下两种类型：\n",
    "1. 分层树形图：类似CEO管理团队领导管理员工等等。\n",
    "2. 聚类树形图：聚类将一组个体按相似性分组。它的结果可以可视化为一棵树。\n",
    "\n",
    "本文主要参考：[Dendrogram](https://www.r-graph-gallery.com/dendrogram.html)\n",
    "\n",
    "本文所有代码见：[R-Study-Notes](https://github.com/luohenyueji/R-Study-Notes/tree/master/Visualization)"
   ]
  },
  {
   "cell_type": "markdown",
   "metadata": {},
   "source": [
    "# 1 分层树形图 DENDROGRAM FROM HIERARCHICAL DATA\n"
   ]
  },
  {
   "cell_type": "markdown",
   "metadata": {},
   "source": [
    "## 1.1 基于R语言和ggraph绘制树形图 Introduction to tree diagram with R and ggraph\n",
    "\n",
    "本节逐步介绍通过R语言和ggraph建立树形图，并提供了解释和可复制代码。ggraph包是用R从层次数据构建树形图的最佳选择，其遵循与ggplot2相同的逻辑。本节旨在使用ggraph库制作一个表示层次数据的基本树形图。考虑两种输入格式：\n",
    "+ 基于边列表\n",
    "+ 基于嵌套数据"
   ]
  },
  {
   "cell_type": "markdown",
   "metadata": {},
   "source": [
    "### 1.1.1 通过边绘制树形图 Dendrogram from edge list\n",
    "基于边列表绘制树形图意思是给定每一个节点到另外一个节点的数据，来依次绘制树形图。边列表数据使用ggraph最方便的格式。数据结构如下图所示。每一行代表一条边，比如(origin,group1)表示从节点origin到group的边。\n",
    "\n",
    "![](imgonline/Hierarchical_network_2col.png)\n",
    "\n",
    "请遵循以下步骤：\n",
    "+ 使用igraph库中的graph_from_data_frame()函数将输入数据帧转换为图形对象\n",
    "+ 使用ggraph的树形图布局，布局为'dendrogram'\n",
    "\n",
    "主要步骤依次讲解："
   ]
  },
  {
   "cell_type": "markdown",
   "metadata": {},
   "source": [
    "**创建数据**  \n",
    "其中d1为根节点到第一层节点的数据，每一行代表一条边，比如(origin,group1)表示从节点origin到group的边，d2是第一层节点到第二层节点的数据。edges是对d1和d2的汇总"
   ]
  },
  {
   "cell_type": "code",
   "execution_count": 36,
   "metadata": {},
   "outputs": [
    {
     "data": {
      "text/html": [
       "<table>\n",
       "<caption>A data.frame: 3 × 2</caption>\n",
       "<thead>\n",
       "\t<tr><th scope=col>from</th><th scope=col>to</th></tr>\n",
       "\t<tr><th scope=col>&lt;fct&gt;</th><th scope=col>&lt;fct&gt;</th></tr>\n",
       "</thead>\n",
       "<tbody>\n",
       "\t<tr><td>origin</td><td>group1</td></tr>\n",
       "\t<tr><td>origin</td><td>group2</td></tr>\n",
       "\t<tr><td>origin</td><td>group3</td></tr>\n",
       "</tbody>\n",
       "</table>\n"
      ],
      "text/latex": [
       "A data.frame: 3 × 2\n",
       "\\begin{tabular}{r|ll}\n",
       " from & to\\\\\n",
       " <fct> & <fct>\\\\\n",
       "\\hline\n",
       "\t origin & group1\\\\\n",
       "\t origin & group2\\\\\n",
       "\t origin & group3\\\\\n",
       "\\end{tabular}\n"
      ],
      "text/markdown": [
       "\n",
       "A data.frame: 3 × 2\n",
       "\n",
       "| from &lt;fct&gt; | to &lt;fct&gt; |\n",
       "|---|---|\n",
       "| origin | group1 |\n",
       "| origin | group2 |\n",
       "| origin | group3 |\n",
       "\n"
      ],
      "text/plain": [
       "  from   to    \n",
       "1 origin group1\n",
       "2 origin group2\n",
       "3 origin group3"
      ]
     },
     "metadata": {},
     "output_type": "display_data"
    },
    {
     "data": {
      "text/html": [
       "<table>\n",
       "<caption>A data.frame: 9 × 2</caption>\n",
       "<thead>\n",
       "\t<tr><th scope=col>from</th><th scope=col>to</th></tr>\n",
       "\t<tr><th scope=col>&lt;fct&gt;</th><th scope=col>&lt;fct&gt;</th></tr>\n",
       "</thead>\n",
       "<tbody>\n",
       "\t<tr><td>group1</td><td>subgroup_1</td></tr>\n",
       "\t<tr><td>group1</td><td>subgroup_2</td></tr>\n",
       "\t<tr><td>group1</td><td>subgroup_3</td></tr>\n",
       "\t<tr><td>group2</td><td>subgroup_4</td></tr>\n",
       "\t<tr><td>group2</td><td>subgroup_5</td></tr>\n",
       "\t<tr><td>group2</td><td>subgroup_6</td></tr>\n",
       "\t<tr><td>group3</td><td>subgroup_7</td></tr>\n",
       "\t<tr><td>group3</td><td>subgroup_8</td></tr>\n",
       "\t<tr><td>group3</td><td>subgroup_9</td></tr>\n",
       "</tbody>\n",
       "</table>\n"
      ],
      "text/latex": [
       "A data.frame: 9 × 2\n",
       "\\begin{tabular}{r|ll}\n",
       " from & to\\\\\n",
       " <fct> & <fct>\\\\\n",
       "\\hline\n",
       "\t group1 & subgroup\\_1\\\\\n",
       "\t group1 & subgroup\\_2\\\\\n",
       "\t group1 & subgroup\\_3\\\\\n",
       "\t group2 & subgroup\\_4\\\\\n",
       "\t group2 & subgroup\\_5\\\\\n",
       "\t group2 & subgroup\\_6\\\\\n",
       "\t group3 & subgroup\\_7\\\\\n",
       "\t group3 & subgroup\\_8\\\\\n",
       "\t group3 & subgroup\\_9\\\\\n",
       "\\end{tabular}\n"
      ],
      "text/markdown": [
       "\n",
       "A data.frame: 9 × 2\n",
       "\n",
       "| from &lt;fct&gt; | to &lt;fct&gt; |\n",
       "|---|---|\n",
       "| group1 | subgroup_1 |\n",
       "| group1 | subgroup_2 |\n",
       "| group1 | subgroup_3 |\n",
       "| group2 | subgroup_4 |\n",
       "| group2 | subgroup_5 |\n",
       "| group2 | subgroup_6 |\n",
       "| group3 | subgroup_7 |\n",
       "| group3 | subgroup_8 |\n",
       "| group3 | subgroup_9 |\n",
       "\n"
      ],
      "text/plain": [
       "  from   to        \n",
       "1 group1 subgroup_1\n",
       "2 group1 subgroup_2\n",
       "3 group1 subgroup_3\n",
       "4 group2 subgroup_4\n",
       "5 group2 subgroup_5\n",
       "6 group2 subgroup_6\n",
       "7 group3 subgroup_7\n",
       "8 group3 subgroup_8\n",
       "9 group3 subgroup_9"
      ]
     },
     "metadata": {},
     "output_type": "display_data"
    },
    {
     "data": {
      "text/html": [
       "<table>\n",
       "<caption>A data.frame: 12 × 2</caption>\n",
       "<thead>\n",
       "\t<tr><th scope=col>from</th><th scope=col>to</th></tr>\n",
       "\t<tr><th scope=col>&lt;fct&gt;</th><th scope=col>&lt;fct&gt;</th></tr>\n",
       "</thead>\n",
       "<tbody>\n",
       "\t<tr><td>origin</td><td>group1    </td></tr>\n",
       "\t<tr><td>origin</td><td>group2    </td></tr>\n",
       "\t<tr><td>origin</td><td>group3    </td></tr>\n",
       "\t<tr><td>group1</td><td>subgroup_1</td></tr>\n",
       "\t<tr><td>group1</td><td>subgroup_2</td></tr>\n",
       "\t<tr><td>group1</td><td>subgroup_3</td></tr>\n",
       "\t<tr><td>group2</td><td>subgroup_4</td></tr>\n",
       "\t<tr><td>group2</td><td>subgroup_5</td></tr>\n",
       "\t<tr><td>group2</td><td>subgroup_6</td></tr>\n",
       "\t<tr><td>group3</td><td>subgroup_7</td></tr>\n",
       "\t<tr><td>group3</td><td>subgroup_8</td></tr>\n",
       "\t<tr><td>group3</td><td>subgroup_9</td></tr>\n",
       "</tbody>\n",
       "</table>\n"
      ],
      "text/latex": [
       "A data.frame: 12 × 2\n",
       "\\begin{tabular}{r|ll}\n",
       " from & to\\\\\n",
       " <fct> & <fct>\\\\\n",
       "\\hline\n",
       "\t origin & group1    \\\\\n",
       "\t origin & group2    \\\\\n",
       "\t origin & group3    \\\\\n",
       "\t group1 & subgroup\\_1\\\\\n",
       "\t group1 & subgroup\\_2\\\\\n",
       "\t group1 & subgroup\\_3\\\\\n",
       "\t group2 & subgroup\\_4\\\\\n",
       "\t group2 & subgroup\\_5\\\\\n",
       "\t group2 & subgroup\\_6\\\\\n",
       "\t group3 & subgroup\\_7\\\\\n",
       "\t group3 & subgroup\\_8\\\\\n",
       "\t group3 & subgroup\\_9\\\\\n",
       "\\end{tabular}\n"
      ],
      "text/markdown": [
       "\n",
       "A data.frame: 12 × 2\n",
       "\n",
       "| from &lt;fct&gt; | to &lt;fct&gt; |\n",
       "|---|---|\n",
       "| origin | group1     |\n",
       "| origin | group2     |\n",
       "| origin | group3     |\n",
       "| group1 | subgroup_1 |\n",
       "| group1 | subgroup_2 |\n",
       "| group1 | subgroup_3 |\n",
       "| group2 | subgroup_4 |\n",
       "| group2 | subgroup_5 |\n",
       "| group2 | subgroup_6 |\n",
       "| group3 | subgroup_7 |\n",
       "| group3 | subgroup_8 |\n",
       "| group3 | subgroup_9 |\n",
       "\n"
      ],
      "text/plain": [
       "   from   to        \n",
       "1  origin group1    \n",
       "2  origin group2    \n",
       "3  origin group3    \n",
       "4  group1 subgroup_1\n",
       "5  group1 subgroup_2\n",
       "6  group1 subgroup_3\n",
       "7  group2 subgroup_4\n",
       "8  group2 subgroup_5\n",
       "9  group2 subgroup_6\n",
       "10 group3 subgroup_7\n",
       "11 group3 subgroup_8\n",
       "12 group3 subgroup_9"
      ]
     },
     "metadata": {},
     "output_type": "display_data"
    }
   ],
   "source": [
    "# libraries\n",
    "# 包\n",
    "library(ggraph)\n",
    "library(igraph)\n",
    "library(tidyverse)\n",
    " \n",
    "# create an edge list data frame giving the hierarchical structure of your individuals\n",
    "# 创建层级数据\n",
    "d1 <- data.frame(from=\"origin\", to=paste(\"group\", seq(1,3), sep=\"\"))\n",
    "d1\n",
    "d2 <- data.frame(from=rep(d1$to, each=3), to=paste(\"subgroup\", seq(1,9), sep=\"_\"))\n",
    "d2\n",
    "# 汇总\n",
    "edges <- rbind(d1, d2)\n",
    "edges"
   ]
  },
  {
   "cell_type": "markdown",
   "metadata": {},
   "source": [
    "**创建图形结构**\n",
    "\n",
    "需要创建专用的图形结构，origin->group1表示从节点origin到节点group1"
   ]
  },
  {
   "cell_type": "code",
   "execution_count": 37,
   "metadata": {},
   "outputs": [
    {
     "data": {
      "text/plain": [
       "IGRAPH 2c80675 DN-- 13 12 -- \n",
       "+ attr: name (v/c)\n",
       "+ edges from 2c80675 (vertex names):\n",
       " [1] origin->group1     origin->group2     origin->group3     group1->subgroup_1\n",
       " [5] group1->subgroup_2 group1->subgroup_3 group2->subgroup_4 group2->subgroup_5\n",
       " [9] group2->subgroup_6 group3->subgroup_7 group3->subgroup_8 group3->subgroup_9"
      ]
     },
     "metadata": {},
     "output_type": "display_data"
    }
   ],
   "source": [
    "# Create a graph object \n",
    "mygraph <- graph_from_data_frame( edges )\n",
    "mygraph"
   ]
  },
  {
   "cell_type": "markdown",
   "metadata": {},
   "source": [
    "**绘图**"
   ]
  },
  {
   "cell_type": "code",
   "execution_count": 38,
   "metadata": {},
   "outputs": [
    {
     "data": {
      "image/png": "[encoded data removed]",
      "text/plain": [
       "plot without title"
      ]
     },
     "metadata": {
      "image/png": {
       "height": 420,
       "width": 420
      },
      "text/plain": {
       "height": 420,
       "width": 420
      }
     },
     "output_type": "display_data"
    }
   ],
   "source": [
    "# Basic tree\n",
    "# 基础树形图\n",
    "# layout表示布局方式，circular表示是否为环状树形图\n",
    "ggraph(mygraph, layout = 'dendrogram', circular = FALSE) + \n",
    "    # 画边\n",
    "    geom_edge_diagonal() +\n",
    "    # 画节点\n",
    "    geom_node_point() +\n",
    "    # 设置主题\n",
    "    theme_void()"
   ]
  },
  {
   "cell_type": "markdown",
   "metadata": {},
   "source": [
    "### 1.1.2 通过嵌套数据绘制树形图 Dendrogram from a nested dataframe\n",
    "另一种常见格式是嵌套数据。下面的代码演示如何轻松地将数组转换为嵌套数据。嵌套数据结构如下图所示，嵌套数据每一列代表一个节点，行代表节点到节点的路径\n",
    "\n",
    "![](imgonline/Nested_DataFrame.png)\n"
   ]
  },
  {
   "cell_type": "markdown",
   "metadata": {},
   "source": [
    "**建立数据**"
   ]
  },
  {
   "cell_type": "code",
   "execution_count": 39,
   "metadata": {},
   "outputs": [
    {
     "data": {
      "text/html": [
       "<table>\n",
       "<caption>A data.frame: 8 × 3</caption>\n",
       "<thead>\n",
       "\t<tr><th scope=col>level1</th><th scope=col>level2</th><th scope=col>level3</th></tr>\n",
       "\t<tr><th scope=col>&lt;fct&gt;</th><th scope=col>&lt;fct&gt;</th><th scope=col>&lt;fct&gt;</th></tr>\n",
       "</thead>\n",
       "<tbody>\n",
       "\t<tr><td>CEO</td><td>boss1</td><td>mister_a</td></tr>\n",
       "\t<tr><td>CEO</td><td>boss1</td><td>mister_b</td></tr>\n",
       "\t<tr><td>CEO</td><td>boss1</td><td>mister_c</td></tr>\n",
       "\t<tr><td>CEO</td><td>boss1</td><td>mister_d</td></tr>\n",
       "\t<tr><td>CEO</td><td>boss2</td><td>mister_e</td></tr>\n",
       "\t<tr><td>CEO</td><td>boss2</td><td>mister_f</td></tr>\n",
       "\t<tr><td>CEO</td><td>boss2</td><td>mister_g</td></tr>\n",
       "\t<tr><td>CEO</td><td>boss2</td><td>mister_h</td></tr>\n",
       "</tbody>\n",
       "</table>\n"
      ],
      "text/latex": [
       "A data.frame: 8 × 3\n",
       "\\begin{tabular}{r|lll}\n",
       " level1 & level2 & level3\\\\\n",
       " <fct> & <fct> & <fct>\\\\\n",
       "\\hline\n",
       "\t CEO & boss1 & mister\\_a\\\\\n",
       "\t CEO & boss1 & mister\\_b\\\\\n",
       "\t CEO & boss1 & mister\\_c\\\\\n",
       "\t CEO & boss1 & mister\\_d\\\\\n",
       "\t CEO & boss2 & mister\\_e\\\\\n",
       "\t CEO & boss2 & mister\\_f\\\\\n",
       "\t CEO & boss2 & mister\\_g\\\\\n",
       "\t CEO & boss2 & mister\\_h\\\\\n",
       "\\end{tabular}\n"
      ],
      "text/markdown": [
       "\n",
       "A data.frame: 8 × 3\n",
       "\n",
       "| level1 &lt;fct&gt; | level2 &lt;fct&gt; | level3 &lt;fct&gt; |\n",
       "|---|---|---|\n",
       "| CEO | boss1 | mister_a |\n",
       "| CEO | boss1 | mister_b |\n",
       "| CEO | boss1 | mister_c |\n",
       "| CEO | boss1 | mister_d |\n",
       "| CEO | boss2 | mister_e |\n",
       "| CEO | boss2 | mister_f |\n",
       "| CEO | boss2 | mister_g |\n",
       "| CEO | boss2 | mister_h |\n",
       "\n"
      ],
      "text/plain": [
       "  level1 level2 level3  \n",
       "1 CEO    boss1  mister_a\n",
       "2 CEO    boss1  mister_b\n",
       "3 CEO    boss1  mister_c\n",
       "4 CEO    boss1  mister_d\n",
       "5 CEO    boss2  mister_e\n",
       "6 CEO    boss2  mister_f\n",
       "7 CEO    boss2  mister_g\n",
       "8 CEO    boss2  mister_h"
      ]
     },
     "metadata": {},
     "output_type": "display_data"
    }
   ],
   "source": [
    "# libraries\n",
    "library(ggraph)\n",
    "library(igraph)\n",
    "library(tidyverse)\n",
    " \n",
    "# create a data frame \n",
    "data <- data.frame(\n",
    "  level1=\"CEO\",\n",
    "  level2=c( rep(\"boss1\",4), rep(\"boss2\",4)),\n",
    "  level3=paste0(\"mister_\", letters[1:8])\n",
    ")\n",
    "data"
   ]
  },
  {
   "cell_type": "markdown",
   "metadata": {},
   "source": [
    "**将数据转换为边列表**"
   ]
  },
  {
   "cell_type": "code",
   "execution_count": 40,
   "metadata": {},
   "outputs": [
    {
     "data": {
      "text/html": [
       "<table>\n",
       "<caption>A data.frame: 2 × 2</caption>\n",
       "<thead>\n",
       "\t<tr><th></th><th scope=col>from</th><th scope=col>to</th></tr>\n",
       "\t<tr><th></th><th scope=col>&lt;fct&gt;</th><th scope=col>&lt;fct&gt;</th></tr>\n",
       "</thead>\n",
       "<tbody>\n",
       "\t<tr><th scope=row>1</th><td>CEO</td><td>boss1</td></tr>\n",
       "\t<tr><th scope=row>5</th><td>CEO</td><td>boss2</td></tr>\n",
       "</tbody>\n",
       "</table>\n"
      ],
      "text/latex": [
       "A data.frame: 2 × 2\n",
       "\\begin{tabular}{r|ll}\n",
       "  & from & to\\\\\n",
       "  & <fct> & <fct>\\\\\n",
       "\\hline\n",
       "\t1 & CEO & boss1\\\\\n",
       "\t5 & CEO & boss2\\\\\n",
       "\\end{tabular}\n"
      ],
      "text/markdown": [
       "\n",
       "A data.frame: 2 × 2\n",
       "\n",
       "| <!--/--> | from &lt;fct&gt; | to &lt;fct&gt; |\n",
       "|---|---|---|\n",
       "| 1 | CEO | boss1 |\n",
       "| 5 | CEO | boss2 |\n",
       "\n"
      ],
      "text/plain": [
       "  from to   \n",
       "1 CEO  boss1\n",
       "5 CEO  boss2"
      ]
     },
     "metadata": {},
     "output_type": "display_data"
    },
    {
     "data": {
      "text/html": [
       "<table>\n",
       "<caption>A data.frame: 8 × 2</caption>\n",
       "<thead>\n",
       "\t<tr><th scope=col>from</th><th scope=col>to</th></tr>\n",
       "\t<tr><th scope=col>&lt;fct&gt;</th><th scope=col>&lt;fct&gt;</th></tr>\n",
       "</thead>\n",
       "<tbody>\n",
       "\t<tr><td>boss1</td><td>mister_a</td></tr>\n",
       "\t<tr><td>boss1</td><td>mister_b</td></tr>\n",
       "\t<tr><td>boss1</td><td>mister_c</td></tr>\n",
       "\t<tr><td>boss1</td><td>mister_d</td></tr>\n",
       "\t<tr><td>boss2</td><td>mister_e</td></tr>\n",
       "\t<tr><td>boss2</td><td>mister_f</td></tr>\n",
       "\t<tr><td>boss2</td><td>mister_g</td></tr>\n",
       "\t<tr><td>boss2</td><td>mister_h</td></tr>\n",
       "</tbody>\n",
       "</table>\n"
      ],
      "text/latex": [
       "A data.frame: 8 × 2\n",
       "\\begin{tabular}{r|ll}\n",
       " from & to\\\\\n",
       " <fct> & <fct>\\\\\n",
       "\\hline\n",
       "\t boss1 & mister\\_a\\\\\n",
       "\t boss1 & mister\\_b\\\\\n",
       "\t boss1 & mister\\_c\\\\\n",
       "\t boss1 & mister\\_d\\\\\n",
       "\t boss2 & mister\\_e\\\\\n",
       "\t boss2 & mister\\_f\\\\\n",
       "\t boss2 & mister\\_g\\\\\n",
       "\t boss2 & mister\\_h\\\\\n",
       "\\end{tabular}\n"
      ],
      "text/markdown": [
       "\n",
       "A data.frame: 8 × 2\n",
       "\n",
       "| from &lt;fct&gt; | to &lt;fct&gt; |\n",
       "|---|---|\n",
       "| boss1 | mister_a |\n",
       "| boss1 | mister_b |\n",
       "| boss1 | mister_c |\n",
       "| boss1 | mister_d |\n",
       "| boss2 | mister_e |\n",
       "| boss2 | mister_f |\n",
       "| boss2 | mister_g |\n",
       "| boss2 | mister_h |\n",
       "\n"
      ],
      "text/plain": [
       "  from  to      \n",
       "1 boss1 mister_a\n",
       "2 boss1 mister_b\n",
       "3 boss1 mister_c\n",
       "4 boss1 mister_d\n",
       "5 boss2 mister_e\n",
       "6 boss2 mister_f\n",
       "7 boss2 mister_g\n",
       "8 boss2 mister_h"
      ]
     },
     "metadata": {},
     "output_type": "display_data"
    },
    {
     "data": {
      "text/html": [
       "<table>\n",
       "<caption>A data.frame: 10 × 2</caption>\n",
       "<thead>\n",
       "\t<tr><th></th><th scope=col>from</th><th scope=col>to</th></tr>\n",
       "\t<tr><th></th><th scope=col>&lt;fct&gt;</th><th scope=col>&lt;fct&gt;</th></tr>\n",
       "</thead>\n",
       "<tbody>\n",
       "\t<tr><th scope=row>1</th><td>CEO  </td><td>boss1   </td></tr>\n",
       "\t<tr><th scope=row>5</th><td>CEO  </td><td>boss2   </td></tr>\n",
       "\t<tr><th scope=row>11</th><td>boss1</td><td>mister_a</td></tr>\n",
       "\t<tr><th scope=row>2</th><td>boss1</td><td>mister_b</td></tr>\n",
       "\t<tr><th scope=row>3</th><td>boss1</td><td>mister_c</td></tr>\n",
       "\t<tr><th scope=row>4</th><td>boss1</td><td>mister_d</td></tr>\n",
       "\t<tr><th scope=row>51</th><td>boss2</td><td>mister_e</td></tr>\n",
       "\t<tr><th scope=row>6</th><td>boss2</td><td>mister_f</td></tr>\n",
       "\t<tr><th scope=row>7</th><td>boss2</td><td>mister_g</td></tr>\n",
       "\t<tr><th scope=row>8</th><td>boss2</td><td>mister_h</td></tr>\n",
       "</tbody>\n",
       "</table>\n"
      ],
      "text/latex": [
       "A data.frame: 10 × 2\n",
       "\\begin{tabular}{r|ll}\n",
       "  & from & to\\\\\n",
       "  & <fct> & <fct>\\\\\n",
       "\\hline\n",
       "\t1 & CEO   & boss1   \\\\\n",
       "\t5 & CEO   & boss2   \\\\\n",
       "\t11 & boss1 & mister\\_a\\\\\n",
       "\t2 & boss1 & mister\\_b\\\\\n",
       "\t3 & boss1 & mister\\_c\\\\\n",
       "\t4 & boss1 & mister\\_d\\\\\n",
       "\t51 & boss2 & mister\\_e\\\\\n",
       "\t6 & boss2 & mister\\_f\\\\\n",
       "\t7 & boss2 & mister\\_g\\\\\n",
       "\t8 & boss2 & mister\\_h\\\\\n",
       "\\end{tabular}\n"
      ],
      "text/markdown": [
       "\n",
       "A data.frame: 10 × 2\n",
       "\n",
       "| <!--/--> | from &lt;fct&gt; | to &lt;fct&gt; |\n",
       "|---|---|---|\n",
       "| 1 | CEO   | boss1    |\n",
       "| 5 | CEO   | boss2    |\n",
       "| 11 | boss1 | mister_a |\n",
       "| 2 | boss1 | mister_b |\n",
       "| 3 | boss1 | mister_c |\n",
       "| 4 | boss1 | mister_d |\n",
       "| 51 | boss2 | mister_e |\n",
       "| 6 | boss2 | mister_f |\n",
       "| 7 | boss2 | mister_g |\n",
       "| 8 | boss2 | mister_h |\n",
       "\n"
      ],
      "text/plain": [
       "   from  to      \n",
       "1  CEO   boss1   \n",
       "5  CEO   boss2   \n",
       "11 boss1 mister_a\n",
       "2  boss1 mister_b\n",
       "3  boss1 mister_c\n",
       "4  boss1 mister_d\n",
       "51 boss2 mister_e\n",
       "6  boss2 mister_f\n",
       "7  boss2 mister_g\n",
       "8  boss2 mister_h"
      ]
     },
     "metadata": {},
     "output_type": "display_data"
    }
   ],
   "source": [
    "# transform it to a edge list!\n",
    "edges_level1_2 <- data %>% select(level1, level2) %>% unique %>% rename(from=level1, to=level2)\n",
    "edges_level2_3 <- data %>% select(level2, level3) %>% unique %>% rename(from=level2, to=level3)\n",
    "edges_level1_2\n",
    "edges_level2_3\n",
    "edge_list=rbind(edges_level1_2, edges_level2_3)\n",
    "edge_list"
   ]
  },
  {
   "cell_type": "markdown",
   "metadata": {},
   "source": [
    "**绘图**"
   ]
  },
  {
   "cell_type": "code",
   "execution_count": 41,
   "metadata": {},
   "outputs": [
    {
     "data": {
      "image/png": "[encoded data removed]",
      "text/plain": [
       "plot without title"
      ]
     },
     "metadata": {
      "image/png": {
       "height": 420,
       "width": 420
      },
      "text/plain": {
       "height": 420,
       "width": 420
      }
     },
     "output_type": "display_data"
    }
   ],
   "source": [
    "# Now we can plot that\n",
    "mygraph<- graph_from_data_frame( edge_list )\n",
    "ggraph(mygraph, layout = 'dendrogram', circular = FALSE) + \n",
    "    geom_edge_diagonal() +\n",
    "    geom_node_point() +\n",
    "    theme_void()"
   ]
  },
  {
   "cell_type": "markdown",
   "metadata": {},
   "source": [
    "## 1.2 使用R和ggraph自定义树形图 Dendrogram customization with R and ggraph\n",
    "本节旨在显示了如何自定义树形图：布局，边线样式，节点特征等"
   ]
  },
  {
   "cell_type": "markdown",
   "metadata": {},
   "source": [
    "### 1.2.1 数据准备 Data preparation\n",
    "这里准备的是本节所用到的通用数据\n",
    "\n",
    "**首先使用igraph包创建一个数据集和一个图形对象**"
   ]
  },
  {
   "cell_type": "code",
   "execution_count": 42,
   "metadata": {},
   "outputs": [
    {
     "name": "stderr",
     "output_type": "stream",
     "text": [
      "Warning message:\n",
      "\"New theme missing the following elements: axis.title.x, axis.title.x.top, axis.title.y, axis.title.y.right, axis.text.x, axis.text.x.top, axis.text.y, axis.text.y.right, axis.ticks, axis.line, axis.line.x, axis.line.y, legend.background, legend.margin, legend.spacing, legend.spacing.x, legend.spacing.y, legend.key, legend.key.height, legend.key.width, legend.text.align, legend.title.align, legend.direction, legend.justification, legend.box.margin, legend.box.background, legend.box.spacing, panel.background, panel.border, panel.spacing.x, panel.spacing.y, panel.grid, panel.grid.minor, plot.background, strip.background, strip.placement, strip.text.x, strip.text.y\"\n"
     ]
    }
   ],
   "source": [
    "# Libraries\n",
    "library(ggraph)\n",
    "library(igraph)\n",
    "library(tidyverse)\n",
    "theme_set(theme_void())\n",
    " \n",
    "# data: edge list\n",
    "# 边数据\n",
    "d1 <- data.frame(from=\"origin\", to=paste(\"group\", seq(1,7), sep=\"\"))\n",
    "d2 <- data.frame(from=rep(d1$to, each=7), to=paste(\"subgroup\", seq(1,49), sep=\"_\"))\n",
    "edges <- rbind(d1, d2)"
   ]
  },
  {
   "cell_type": "markdown",
   "metadata": {},
   "source": [
    "**为每个节点添加聚类信息和值信息**"
   ]
  },
  {
   "cell_type": "code",
   "execution_count": 43,
   "metadata": {},
   "outputs": [
    {
     "data": {
      "text/html": [
       "<table>\n",
       "<caption>A data.frame: 10 × 4</caption>\n",
       "<thead>\n",
       "\t<tr><th scope=col>name</th><th scope=col>group</th><th scope=col>cluster</th><th scope=col>value</th></tr>\n",
       "\t<tr><th scope=col>&lt;fct&gt;</th><th scope=col>&lt;fct&gt;</th><th scope=col>&lt;fct&gt;</th><th scope=col>&lt;int&gt;</th></tr>\n",
       "</thead>\n",
       "<tbody>\n",
       "\t<tr><td>origin    </td><td>NA    </td><td>b</td><td>11</td></tr>\n",
       "\t<tr><td>group1    </td><td>NA    </td><td>c</td><td>25</td></tr>\n",
       "\t<tr><td>group2    </td><td>NA    </td><td>c</td><td>10</td></tr>\n",
       "\t<tr><td>group3    </td><td>NA    </td><td>d</td><td>28</td></tr>\n",
       "\t<tr><td>group4    </td><td>NA    </td><td>b</td><td>25</td></tr>\n",
       "\t<tr><td>group5    </td><td>NA    </td><td>d</td><td>25</td></tr>\n",
       "\t<tr><td>group6    </td><td>NA    </td><td>c</td><td>26</td></tr>\n",
       "\t<tr><td>group7    </td><td>NA    </td><td>b</td><td>30</td></tr>\n",
       "\t<tr><td>subgroup_1</td><td>group1</td><td>a</td><td>10</td></tr>\n",
       "\t<tr><td>subgroup_2</td><td>group1</td><td>d</td><td>11</td></tr>\n",
       "</tbody>\n",
       "</table>\n"
      ],
      "text/latex": [
       "A data.frame: 10 × 4\n",
       "\\begin{tabular}{r|llll}\n",
       " name & group & cluster & value\\\\\n",
       " <fct> & <fct> & <fct> & <int>\\\\\n",
       "\\hline\n",
       "\t origin     & NA     & b & 11\\\\\n",
       "\t group1     & NA     & c & 25\\\\\n",
       "\t group2     & NA     & c & 10\\\\\n",
       "\t group3     & NA     & d & 28\\\\\n",
       "\t group4     & NA     & b & 25\\\\\n",
       "\t group5     & NA     & d & 25\\\\\n",
       "\t group6     & NA     & c & 26\\\\\n",
       "\t group7     & NA     & b & 30\\\\\n",
       "\t subgroup\\_1 & group1 & a & 10\\\\\n",
       "\t subgroup\\_2 & group1 & d & 11\\\\\n",
       "\\end{tabular}\n"
      ],
      "text/markdown": [
       "\n",
       "A data.frame: 10 × 4\n",
       "\n",
       "| name &lt;fct&gt; | group &lt;fct&gt; | cluster &lt;fct&gt; | value &lt;int&gt; |\n",
       "|---|---|---|---|\n",
       "| origin     | NA     | b | 11 |\n",
       "| group1     | NA     | c | 25 |\n",
       "| group2     | NA     | c | 10 |\n",
       "| group3     | NA     | d | 28 |\n",
       "| group4     | NA     | b | 25 |\n",
       "| group5     | NA     | d | 25 |\n",
       "| group6     | NA     | c | 26 |\n",
       "| group7     | NA     | b | 30 |\n",
       "| subgroup_1 | group1 | a | 10 |\n",
       "| subgroup_2 | group1 | d | 11 |\n",
       "\n"
      ],
      "text/plain": [
       "   name       group  cluster value\n",
       "1  origin     NA     b       11   \n",
       "2  group1     NA     c       25   \n",
       "3  group2     NA     c       10   \n",
       "4  group3     NA     d       28   \n",
       "5  group4     NA     b       25   \n",
       "6  group5     NA     d       25   \n",
       "7  group6     NA     c       26   \n",
       "8  group7     NA     b       30   \n",
       "9  subgroup_1 group1 a       10   \n",
       "10 subgroup_2 group1 d       11   "
      ]
     },
     "metadata": {},
     "output_type": "display_data"
    }
   ],
   "source": [
    "# We can add a second data frame with information for each node!\n",
    "# 为每个节点设置信息\n",
    "name <- unique(c(as.character(edges$from), as.character(edges$to)))\n",
    "# 设置每个节点对应的聚类信息和值\n",
    "vertices <- data.frame(\n",
    "  name=name,\n",
    "  group=c( rep(NA,8) ,  rep( paste(\"group\", seq(1,7), sep=\"\"), each=7)),\n",
    "  cluster=sample(letters[1:4], length(name), replace=T),\n",
    "  value=sample(seq(10,30), length(name), replace=T)\n",
    ")\n",
    "vertices[0:10,]\n",
    "# Create a graph object\n",
    "mygraph <- graph_from_data_frame( edges, vertices=vertices)"
   ]
  },
  {
   "cell_type": "markdown",
   "metadata": {},
   "source": [
    "### 1.2.2 环形或线形布局 Circular or linear layout\n",
    "首先，由于ggraph的layout参数，您可以使用circular选项来使用环形或线形布局。\n",
    "\n"
   ]
  },
  {
   "cell_type": "code",
   "execution_count": 44,
   "metadata": {},
   "outputs": [
    {
     "data": {
      "image/png": "[encoded data removed]",
      "text/plain": [
       "plot without title"
      ]
     },
     "metadata": {
      "image/png": {
       "height": 420,
       "width": 420
      },
      "text/plain": {
       "height": 420,
       "width": 420
      }
     },
     "output_type": "display_data"
    },
    {
     "data": {
      "image/png": "[encoded data removed]",
      "text/plain": [
       "plot without title"
      ]
     },
     "metadata": {
      "image/png": {
       "height": 420,
       "width": 420
      },
      "text/plain": {
       "height": 420,
       "width": 420
      }
     },
     "output_type": "display_data"
    }
   ],
   "source": [
    "# 线形布局\n",
    "ggraph(mygraph, layout = 'dendrogram', circular = FALSE) + \n",
    "  geom_edge_diagonal() \n",
    "# 环形布局\n",
    "ggraph(mygraph, layout = 'dendrogram', circular = TRUE) + \n",
    "  geom_edge_diagonal()"
   ]
  },
  {
   "cell_type": "markdown",
   "metadata": {},
   "source": [
    "### 1.2.3 边的样式 Edge style\n",
    "然后你可以选择不同的边样式。ggraph软件包有两个主要功能：geom_edge_link和geom_edge_diagram。"
   ]
  },
  {
   "cell_type": "code",
   "execution_count": 45,
   "metadata": {},
   "outputs": [
    {
     "data": {
      "image/png": "[encoded data removed]",
      "text/plain": [
       "plot without title"
      ]
     },
     "metadata": {
      "image/png": {
       "height": 420,
       "width": 420
      },
      "text/plain": {
       "height": 420,
       "width": 420
      }
     },
     "output_type": "display_data"
    },
    {
     "data": {
      "image/png": "[encoded data removed]",
      "text/plain": [
       "plot without title"
      ]
     },
     "metadata": {
      "image/png": {
       "height": 420,
       "width": 420
      },
      "text/plain": {
       "height": 420,
       "width": 420
      }
     },
     "output_type": "display_data"
    }
   ],
   "source": [
    "# 折线\n",
    "ggraph(mygraph, layout = 'dendrogram') + \n",
    "  geom_edge_link()\n",
    "# 弧线\n",
    "ggraph(mygraph, layout = 'dendrogram') + \n",
    "  geom_edge_diagonal()"
   ]
  },
  {
   "cell_type": "markdown",
   "metadata": {},
   "source": [
    "### 1.2.4 标签和节点 Labels and Nodes\n",
    "您可能需要添加标签，以便对树有更深入的了解。最后是节点。这可以分别使用geom_node_text和geom_node_point来完成。但是对于环形树添加标签比较麻烦，下一节单独进行讲述。"
   ]
  },
  {
   "cell_type": "code",
   "execution_count": 46,
   "metadata": {},
   "outputs": [
    {
     "data": {
      "image/png": "[encoded data removed]",
      "text/plain": [
       "plot without title"
      ]
     },
     "metadata": {
      "image/png": {
       "height": 420,
       "width": 420
      },
      "text/plain": {
       "height": 420,
       "width": 420
      }
     },
     "output_type": "display_data"
    },
    {
     "data": {
      "image/png": "[encoded data removed]",
      "text/plain": [
       "plot without title"
      ]
     },
     "metadata": {
      "image/png": {
       "height": 420,
       "width": 420
      },
      "text/plain": {
       "height": 420,
       "width": 420
      }
     },
     "output_type": "display_data"
    }
   ],
   "source": [
    "ggraph(mygraph, layout = 'dendrogram') + \n",
    "    # 设置边\n",
    "    geom_edge_diagonal() +\n",
    "    # 设置节点名，label表示节点名，filter=leaf表示跳过叶子节点，angle标签方向，hjust和nudge_y标签和节点距离\n",
    "    geom_node_text(aes( label=name, filter=leaf) , angle=90 , hjust=1, nudge_y = -0.01) +\n",
    "    # 设置y轴范围\n",
    "    ylim(-.4, NA)\n",
    "\n",
    "ggraph(mygraph, layout = 'dendrogram') + \n",
    "    geom_edge_diagonal() +\n",
    "    geom_node_text(aes( label=name, filter=leaf) , angle=90 , hjust=1, nudge_y = -0.04) +\n",
    "    # 为每个节点添加点\n",
    "    geom_node_point(aes(filter=leaf) , alpha=0.6) +\n",
    "    ylim(-.5, NA)"
   ]
  },
  {
   "cell_type": "markdown",
   "metadata": {},
   "source": [
    "### 1.2.5 自定义美学 Customize aesthetics\n",
    "在树形图中添加颜色或形状是一项常见的任务。它可以更清楚地显示数据集的组织结构。ggraph的工作原理与ggplot2相同。在每个组件的美学部分，可以使用初始数据帧的一列映射到形状、颜色、大小或其他。"
   ]
  },
  {
   "cell_type": "code",
   "execution_count": 47,
   "metadata": {},
   "outputs": [
    {
     "data": {
      "image/png": "[encoded data removed]",
      "text/plain": [
       "plot without title"
      ]
     },
     "metadata": {
      "image/png": {
       "height": 420,
       "width": 420
      },
      "text/plain": {
       "height": 420,
       "width": 420
      }
     },
     "output_type": "display_data"
    }
   ],
   "source": [
    "ggraph(mygraph, layout = 'dendrogram') + \n",
    "    geom_edge_diagonal() +\n",
    "    geom_node_text(aes( label=name, filter=leaf, color=group) , angle=90 , hjust=1, nudge_y=-0.1) +\n",
    "    geom_node_point(aes(filter=leaf, size=value, color=group) , alpha=0.6) +\n",
    "    ylim(-.6, NA) +\n",
    "    theme(legend.position=\"none\")"
   ]
  },
  {
   "cell_type": "markdown",
   "metadata": {},
   "source": [
    "## 1.3 基于R和ggraph自定义环形树形图\n",
    "本节介绍通过R和ggraph自定义环形树形图。ggraph库的圆形树形图应有其专用页面，因为调整标签可能有些棘手。实际上，它们需要具有良好的角度，可以在图表的左侧上下翻转，并且还需要调整其对齐方式。以下分布介绍："
   ]
  },
  {
   "cell_type": "markdown",
   "metadata": {},
   "source": [
    "**创建数据**"
   ]
  },
  {
   "cell_type": "code",
   "execution_count": 48,
   "metadata": {},
   "outputs": [],
   "source": [
    "# Libraries\n",
    "library(ggraph)\n",
    "library(igraph)\n",
    "library(tidyverse)\n",
    "library(RColorBrewer) \n",
    "\n",
    "# 创建数据，类似前面的步骤\n",
    "# create a data frame giving the hierarchical structure of your individuals\n",
    "d1=data.frame(from=\"origin\", to=paste(\"group\", seq(1,5), sep=\"\"))\n",
    "d2=data.frame(from=rep(d1$to, each=5), to=paste(\"subgroup\", seq(1,25), sep=\"_\"))\n",
    "edges=rbind(d1, d2)"
   ]
  },
  {
   "cell_type": "code",
   "execution_count": 49,
   "metadata": {},
   "outputs": [
    {
     "data": {
      "text/html": [
       "<ol class=list-inline>\n",
       "\t<li>31</li>\n",
       "\t<li>3</li>\n",
       "</ol>\n"
      ],
      "text/latex": [
       "\\begin{enumerate*}\n",
       "\\item 31\n",
       "\\item 3\n",
       "\\end{enumerate*}\n"
      ],
      "text/markdown": [
       "1. 31\n",
       "2. 3\n",
       "\n",
       "\n"
      ],
      "text/plain": [
       "[1] 31  3"
      ]
     },
     "metadata": {},
     "output_type": "display_data"
    },
    {
     "data": {
      "text/html": [
       "<table>\n",
       "<caption>A data.frame: 6 × 3</caption>\n",
       "<thead>\n",
       "\t<tr><th scope=col>name</th><th scope=col>value</th><th scope=col>group</th></tr>\n",
       "\t<tr><th scope=col>&lt;fct&gt;</th><th scope=col>&lt;dbl&gt;</th><th scope=col>&lt;fct&gt;</th></tr>\n",
       "</thead>\n",
       "<tbody>\n",
       "\t<tr><td>origin</td><td>0.2694659</td><td>NA    </td></tr>\n",
       "\t<tr><td>group1</td><td>0.6816846</td><td>origin</td></tr>\n",
       "\t<tr><td>group2</td><td>0.2849697</td><td>origin</td></tr>\n",
       "\t<tr><td>group3</td><td>0.2955677</td><td>origin</td></tr>\n",
       "\t<tr><td>group4</td><td>0.6879641</td><td>origin</td></tr>\n",
       "\t<tr><td>group5</td><td>0.2655517</td><td>origin</td></tr>\n",
       "</tbody>\n",
       "</table>\n"
      ],
      "text/latex": [
       "A data.frame: 6 × 3\n",
       "\\begin{tabular}{r|lll}\n",
       " name & value & group\\\\\n",
       " <fct> & <dbl> & <fct>\\\\\n",
       "\\hline\n",
       "\t origin & 0.2694659 & NA    \\\\\n",
       "\t group1 & 0.6816846 & origin\\\\\n",
       "\t group2 & 0.2849697 & origin\\\\\n",
       "\t group3 & 0.2955677 & origin\\\\\n",
       "\t group4 & 0.6879641 & origin\\\\\n",
       "\t group5 & 0.2655517 & origin\\\\\n",
       "\\end{tabular}\n"
      ],
      "text/markdown": [
       "\n",
       "A data.frame: 6 × 3\n",
       "\n",
       "| name &lt;fct&gt; | value &lt;dbl&gt; | group &lt;fct&gt; |\n",
       "|---|---|---|\n",
       "| origin | 0.2694659 | NA     |\n",
       "| group1 | 0.6816846 | origin |\n",
       "| group2 | 0.2849697 | origin |\n",
       "| group3 | 0.2955677 | origin |\n",
       "| group4 | 0.6879641 | origin |\n",
       "| group5 | 0.2655517 | origin |\n",
       "\n"
      ],
      "text/plain": [
       "  name   value     group \n",
       "1 origin 0.2694659 NA    \n",
       "2 group1 0.6816846 origin\n",
       "3 group2 0.2849697 origin\n",
       "4 group3 0.2955677 origin\n",
       "5 group4 0.6879641 origin\n",
       "6 group5 0.2655517 origin"
      ]
     },
     "metadata": {},
     "output_type": "display_data"
    }
   ],
   "source": [
    "# create a vertices data.frame. One line per object of our hierarchy\n",
    "# 为每个节点添加值\n",
    "vertices = data.frame(\n",
    "  name = unique(c(as.character(edges$from), as.character(edges$to))),\n",
    "  # 正态分布随机取值,共获得31个值。如果是其他数据，去掉value = runif(31)，查看运行后的dim(vertices)就知道该填多少了\n",
    "  value = runif(31)\n",
    ") \n",
    "# Let's add a column with the group of each name. It will be useful later to color points\n",
    "# 为每个节点添加分组信息\n",
    "vertices$group = edges$from[ match( vertices$name, edges$to ) ]\n",
    "dim(vertices)\n",
    "head(vertices)"
   ]
  },
  {
   "cell_type": "markdown",
   "metadata": {},
   "source": [
    "**添加绘图信息**"
   ]
  },
  {
   "cell_type": "code",
   "execution_count": 50,
   "metadata": {},
   "outputs": [
    {
     "data": {
      "text/html": [
       "<table>\n",
       "<caption>A data.frame: 31 × 5</caption>\n",
       "<thead>\n",
       "\t<tr><th scope=col>name</th><th scope=col>value</th><th scope=col>group</th><th scope=col>id</th><th scope=col>angle</th></tr>\n",
       "\t<tr><th scope=col>&lt;fct&gt;</th><th scope=col>&lt;dbl&gt;</th><th scope=col>&lt;fct&gt;</th><th scope=col>&lt;int&gt;</th><th scope=col>&lt;dbl&gt;</th></tr>\n",
       "</thead>\n",
       "<tbody>\n",
       "\t<tr><td>origin     </td><td>0.26946595</td><td>NA    </td><td>NA</td><td>    NA</td></tr>\n",
       "\t<tr><td>group1     </td><td>0.68168456</td><td>origin</td><td>NA</td><td>    NA</td></tr>\n",
       "\t<tr><td>group2     </td><td>0.28496969</td><td>origin</td><td>NA</td><td>    NA</td></tr>\n",
       "\t<tr><td>group3     </td><td>0.29556769</td><td>origin</td><td>NA</td><td>    NA</td></tr>\n",
       "\t<tr><td>group4     </td><td>0.68796411</td><td>origin</td><td>NA</td><td>    NA</td></tr>\n",
       "\t<tr><td>group5     </td><td>0.26555169</td><td>origin</td><td>NA</td><td>    NA</td></tr>\n",
       "\t<tr><td>subgroup_1 </td><td>0.13447919</td><td>group1</td><td> 1</td><td> -14.4</td></tr>\n",
       "\t<tr><td>subgroup_2 </td><td>0.87993752</td><td>group1</td><td> 2</td><td> -28.8</td></tr>\n",
       "\t<tr><td>subgroup_3 </td><td>0.73281460</td><td>group1</td><td> 3</td><td> -43.2</td></tr>\n",
       "\t<tr><td>subgroup_4 </td><td>0.05199267</td><td>group1</td><td> 4</td><td> -57.6</td></tr>\n",
       "\t<tr><td>subgroup_5 </td><td>0.95072049</td><td>group1</td><td> 5</td><td> -72.0</td></tr>\n",
       "\t<tr><td>subgroup_6 </td><td>0.67968533</td><td>group2</td><td> 6</td><td> -86.4</td></tr>\n",
       "\t<tr><td>subgroup_7 </td><td>0.60904665</td><td>group2</td><td> 7</td><td>-100.8</td></tr>\n",
       "\t<tr><td>subgroup_8 </td><td>0.91107152</td><td>group2</td><td> 8</td><td>-115.2</td></tr>\n",
       "\t<tr><td>subgroup_9 </td><td>0.56348062</td><td>group2</td><td> 9</td><td>-129.6</td></tr>\n",
       "\t<tr><td>subgroup_10</td><td>0.78231794</td><td>group2</td><td>10</td><td>-144.0</td></tr>\n",
       "\t<tr><td>subgroup_11</td><td>0.39831777</td><td>group3</td><td>11</td><td>-158.4</td></tr>\n",
       "\t<tr><td>subgroup_12</td><td>0.39330663</td><td>group3</td><td>12</td><td>-172.8</td></tr>\n",
       "\t<tr><td>subgroup_13</td><td>0.57479330</td><td>group3</td><td>13</td><td>-187.2</td></tr>\n",
       "\t<tr><td>subgroup_14</td><td>0.61543980</td><td>group3</td><td>14</td><td>-201.6</td></tr>\n",
       "\t<tr><td>subgroup_15</td><td>0.05581496</td><td>group3</td><td>15</td><td>-216.0</td></tr>\n",
       "\t<tr><td>subgroup_16</td><td>0.34000915</td><td>group4</td><td>16</td><td>-230.4</td></tr>\n",
       "\t<tr><td>subgroup_17</td><td>0.65765123</td><td>group4</td><td>17</td><td>-244.8</td></tr>\n",
       "\t<tr><td>subgroup_18</td><td>0.63469281</td><td>group4</td><td>18</td><td>-259.2</td></tr>\n",
       "\t<tr><td>subgroup_19</td><td>0.41069057</td><td>group4</td><td>19</td><td>-273.6</td></tr>\n",
       "\t<tr><td>subgroup_20</td><td>0.07418380</td><td>group4</td><td>20</td><td>-288.0</td></tr>\n",
       "\t<tr><td>subgroup_21</td><td>0.23007252</td><td>group5</td><td>21</td><td>-302.4</td></tr>\n",
       "\t<tr><td>subgroup_22</td><td>0.86334833</td><td>group5</td><td>22</td><td>-316.8</td></tr>\n",
       "\t<tr><td>subgroup_23</td><td>0.01567696</td><td>group5</td><td>23</td><td>-331.2</td></tr>\n",
       "\t<tr><td>subgroup_24</td><td>0.53860661</td><td>group5</td><td>24</td><td>-345.6</td></tr>\n",
       "\t<tr><td>subgroup_25</td><td>0.74063768</td><td>group5</td><td>25</td><td>-360.0</td></tr>\n",
       "</tbody>\n",
       "</table>\n"
      ],
      "text/latex": [
       "A data.frame: 31 × 5\n",
       "\\begin{tabular}{r|lllll}\n",
       " name & value & group & id & angle\\\\\n",
       " <fct> & <dbl> & <fct> & <int> & <dbl>\\\\\n",
       "\\hline\n",
       "\t origin      & 0.26946595 & NA     & NA &     NA\\\\\n",
       "\t group1      & 0.68168456 & origin & NA &     NA\\\\\n",
       "\t group2      & 0.28496969 & origin & NA &     NA\\\\\n",
       "\t group3      & 0.29556769 & origin & NA &     NA\\\\\n",
       "\t group4      & 0.68796411 & origin & NA &     NA\\\\\n",
       "\t group5      & 0.26555169 & origin & NA &     NA\\\\\n",
       "\t subgroup\\_1  & 0.13447919 & group1 &  1 &  -14.4\\\\\n",
       "\t subgroup\\_2  & 0.87993752 & group1 &  2 &  -28.8\\\\\n",
       "\t subgroup\\_3  & 0.73281460 & group1 &  3 &  -43.2\\\\\n",
       "\t subgroup\\_4  & 0.05199267 & group1 &  4 &  -57.6\\\\\n",
       "\t subgroup\\_5  & 0.95072049 & group1 &  5 &  -72.0\\\\\n",
       "\t subgroup\\_6  & 0.67968533 & group2 &  6 &  -86.4\\\\\n",
       "\t subgroup\\_7  & 0.60904665 & group2 &  7 & -100.8\\\\\n",
       "\t subgroup\\_8  & 0.91107152 & group2 &  8 & -115.2\\\\\n",
       "\t subgroup\\_9  & 0.56348062 & group2 &  9 & -129.6\\\\\n",
       "\t subgroup\\_10 & 0.78231794 & group2 & 10 & -144.0\\\\\n",
       "\t subgroup\\_11 & 0.39831777 & group3 & 11 & -158.4\\\\\n",
       "\t subgroup\\_12 & 0.39330663 & group3 & 12 & -172.8\\\\\n",
       "\t subgroup\\_13 & 0.57479330 & group3 & 13 & -187.2\\\\\n",
       "\t subgroup\\_14 & 0.61543980 & group3 & 14 & -201.6\\\\\n",
       "\t subgroup\\_15 & 0.05581496 & group3 & 15 & -216.0\\\\\n",
       "\t subgroup\\_16 & 0.34000915 & group4 & 16 & -230.4\\\\\n",
       "\t subgroup\\_17 & 0.65765123 & group4 & 17 & -244.8\\\\\n",
       "\t subgroup\\_18 & 0.63469281 & group4 & 18 & -259.2\\\\\n",
       "\t subgroup\\_19 & 0.41069057 & group4 & 19 & -273.6\\\\\n",
       "\t subgroup\\_20 & 0.07418380 & group4 & 20 & -288.0\\\\\n",
       "\t subgroup\\_21 & 0.23007252 & group5 & 21 & -302.4\\\\\n",
       "\t subgroup\\_22 & 0.86334833 & group5 & 22 & -316.8\\\\\n",
       "\t subgroup\\_23 & 0.01567696 & group5 & 23 & -331.2\\\\\n",
       "\t subgroup\\_24 & 0.53860661 & group5 & 24 & -345.6\\\\\n",
       "\t subgroup\\_25 & 0.74063768 & group5 & 25 & -360.0\\\\\n",
       "\\end{tabular}\n"
      ],
      "text/markdown": [
       "\n",
       "A data.frame: 31 × 5\n",
       "\n",
       "| name &lt;fct&gt; | value &lt;dbl&gt; | group &lt;fct&gt; | id &lt;int&gt; | angle &lt;dbl&gt; |\n",
       "|---|---|---|---|---|\n",
       "| origin      | 0.26946595 | NA     | NA |     NA |\n",
       "| group1      | 0.68168456 | origin | NA |     NA |\n",
       "| group2      | 0.28496969 | origin | NA |     NA |\n",
       "| group3      | 0.29556769 | origin | NA |     NA |\n",
       "| group4      | 0.68796411 | origin | NA |     NA |\n",
       "| group5      | 0.26555169 | origin | NA |     NA |\n",
       "| subgroup_1  | 0.13447919 | group1 |  1 |  -14.4 |\n",
       "| subgroup_2  | 0.87993752 | group1 |  2 |  -28.8 |\n",
       "| subgroup_3  | 0.73281460 | group1 |  3 |  -43.2 |\n",
       "| subgroup_4  | 0.05199267 | group1 |  4 |  -57.6 |\n",
       "| subgroup_5  | 0.95072049 | group1 |  5 |  -72.0 |\n",
       "| subgroup_6  | 0.67968533 | group2 |  6 |  -86.4 |\n",
       "| subgroup_7  | 0.60904665 | group2 |  7 | -100.8 |\n",
       "| subgroup_8  | 0.91107152 | group2 |  8 | -115.2 |\n",
       "| subgroup_9  | 0.56348062 | group2 |  9 | -129.6 |\n",
       "| subgroup_10 | 0.78231794 | group2 | 10 | -144.0 |\n",
       "| subgroup_11 | 0.39831777 | group3 | 11 | -158.4 |\n",
       "| subgroup_12 | 0.39330663 | group3 | 12 | -172.8 |\n",
       "| subgroup_13 | 0.57479330 | group3 | 13 | -187.2 |\n",
       "| subgroup_14 | 0.61543980 | group3 | 14 | -201.6 |\n",
       "| subgroup_15 | 0.05581496 | group3 | 15 | -216.0 |\n",
       "| subgroup_16 | 0.34000915 | group4 | 16 | -230.4 |\n",
       "| subgroup_17 | 0.65765123 | group4 | 17 | -244.8 |\n",
       "| subgroup_18 | 0.63469281 | group4 | 18 | -259.2 |\n",
       "| subgroup_19 | 0.41069057 | group4 | 19 | -273.6 |\n",
       "| subgroup_20 | 0.07418380 | group4 | 20 | -288.0 |\n",
       "| subgroup_21 | 0.23007252 | group5 | 21 | -302.4 |\n",
       "| subgroup_22 | 0.86334833 | group5 | 22 | -316.8 |\n",
       "| subgroup_23 | 0.01567696 | group5 | 23 | -331.2 |\n",
       "| subgroup_24 | 0.53860661 | group5 | 24 | -345.6 |\n",
       "| subgroup_25 | 0.74063768 | group5 | 25 | -360.0 |\n",
       "\n"
      ],
      "text/plain": [
       "   name        value      group  id angle \n",
       "1  origin      0.26946595 NA     NA     NA\n",
       "2  group1      0.68168456 origin NA     NA\n",
       "3  group2      0.28496969 origin NA     NA\n",
       "4  group3      0.29556769 origin NA     NA\n",
       "5  group4      0.68796411 origin NA     NA\n",
       "6  group5      0.26555169 origin NA     NA\n",
       "7  subgroup_1  0.13447919 group1  1  -14.4\n",
       "8  subgroup_2  0.87993752 group1  2  -28.8\n",
       "9  subgroup_3  0.73281460 group1  3  -43.2\n",
       "10 subgroup_4  0.05199267 group1  4  -57.6\n",
       "11 subgroup_5  0.95072049 group1  5  -72.0\n",
       "12 subgroup_6  0.67968533 group2  6  -86.4\n",
       "13 subgroup_7  0.60904665 group2  7 -100.8\n",
       "14 subgroup_8  0.91107152 group2  8 -115.2\n",
       "15 subgroup_9  0.56348062 group2  9 -129.6\n",
       "16 subgroup_10 0.78231794 group2 10 -144.0\n",
       "17 subgroup_11 0.39831777 group3 11 -158.4\n",
       "18 subgroup_12 0.39330663 group3 12 -172.8\n",
       "19 subgroup_13 0.57479330 group3 13 -187.2\n",
       "20 subgroup_14 0.61543980 group3 14 -201.6\n",
       "21 subgroup_15 0.05581496 group3 15 -216.0\n",
       "22 subgroup_16 0.34000915 group4 16 -230.4\n",
       "23 subgroup_17 0.65765123 group4 17 -244.8\n",
       "24 subgroup_18 0.63469281 group4 18 -259.2\n",
       "25 subgroup_19 0.41069057 group4 19 -273.6\n",
       "26 subgroup_20 0.07418380 group4 20 -288.0\n",
       "27 subgroup_21 0.23007252 group5 21 -302.4\n",
       "28 subgroup_22 0.86334833 group5 22 -316.8\n",
       "29 subgroup_23 0.01567696 group5 23 -331.2\n",
       "30 subgroup_24 0.53860661 group5 24 -345.6\n",
       "31 subgroup_25 0.74063768 group5 25 -360.0"
      ]
     },
     "metadata": {},
     "output_type": "display_data"
    }
   ],
   "source": [
    "# Let's add information concerning the label we are going to add: angle, horizontal adjustement and potential flip calculate the ANGLE of the labels\n",
    "# 让我们添加有关我们将要添加的标签的信息：角度、水平调整和翻转，计算标签的角度\n",
    "# 添加id值\n",
    "vertices$id=NA\n",
    "myleaves=which(is.na( match(vertices$name, edges$from) ))\n",
    "nleaves=length(myleaves)\n",
    "vertices$id[ myleaves ] = seq(1:nleaves)\n",
    "# 添加角度\n",
    "vertices$angle= -360 * vertices$id / nleaves\n",
    "vertices"
   ]
  },
  {
   "cell_type": "code",
   "execution_count": 51,
   "metadata": {},
   "outputs": [
    {
     "data": {
      "text/html": [
       "<table>\n",
       "<caption>A data.frame: 9 × 6</caption>\n",
       "<thead>\n",
       "\t<tr><th></th><th scope=col>name</th><th scope=col>value</th><th scope=col>group</th><th scope=col>id</th><th scope=col>angle</th><th scope=col>hjust</th></tr>\n",
       "\t<tr><th></th><th scope=col>&lt;fct&gt;</th><th scope=col>&lt;dbl&gt;</th><th scope=col>&lt;fct&gt;</th><th scope=col>&lt;int&gt;</th><th scope=col>&lt;dbl&gt;</th><th scope=col>&lt;dbl&gt;</th></tr>\n",
       "</thead>\n",
       "<tbody>\n",
       "\t<tr><th scope=row>12</th><td>subgroup_6 </td><td>0.6796853</td><td>group2</td><td> 6</td><td>-86.4</td><td>0</td></tr>\n",
       "\t<tr><th scope=row>13</th><td>subgroup_7 </td><td>0.6090466</td><td>group2</td><td> 7</td><td> 79.2</td><td>1</td></tr>\n",
       "\t<tr><th scope=row>14</th><td>subgroup_8 </td><td>0.9110715</td><td>group2</td><td> 8</td><td> 64.8</td><td>1</td></tr>\n",
       "\t<tr><th scope=row>15</th><td>subgroup_9 </td><td>0.5634806</td><td>group2</td><td> 9</td><td> 50.4</td><td>1</td></tr>\n",
       "\t<tr><th scope=row>16</th><td>subgroup_10</td><td>0.7823179</td><td>group2</td><td>10</td><td> 36.0</td><td>1</td></tr>\n",
       "\t<tr><th scope=row>17</th><td>subgroup_11</td><td>0.3983178</td><td>group3</td><td>11</td><td> 21.6</td><td>1</td></tr>\n",
       "\t<tr><th scope=row>18</th><td>subgroup_12</td><td>0.3933066</td><td>group3</td><td>12</td><td>  7.2</td><td>1</td></tr>\n",
       "\t<tr><th scope=row>19</th><td>subgroup_13</td><td>0.5747933</td><td>group3</td><td>13</td><td> -7.2</td><td>1</td></tr>\n",
       "\t<tr><th scope=row>20</th><td>subgroup_14</td><td>0.6154398</td><td>group3</td><td>14</td><td>-21.6</td><td>1</td></tr>\n",
       "</tbody>\n",
       "</table>\n"
      ],
      "text/latex": [
       "A data.frame: 9 × 6\n",
       "\\begin{tabular}{r|llllll}\n",
       "  & name & value & group & id & angle & hjust\\\\\n",
       "  & <fct> & <dbl> & <fct> & <int> & <dbl> & <dbl>\\\\\n",
       "\\hline\n",
       "\t12 & subgroup\\_6  & 0.6796853 & group2 &  6 & -86.4 & 0\\\\\n",
       "\t13 & subgroup\\_7  & 0.6090466 & group2 &  7 &  79.2 & 1\\\\\n",
       "\t14 & subgroup\\_8  & 0.9110715 & group2 &  8 &  64.8 & 1\\\\\n",
       "\t15 & subgroup\\_9  & 0.5634806 & group2 &  9 &  50.4 & 1\\\\\n",
       "\t16 & subgroup\\_10 & 0.7823179 & group2 & 10 &  36.0 & 1\\\\\n",
       "\t17 & subgroup\\_11 & 0.3983178 & group3 & 11 &  21.6 & 1\\\\\n",
       "\t18 & subgroup\\_12 & 0.3933066 & group3 & 12 &   7.2 & 1\\\\\n",
       "\t19 & subgroup\\_13 & 0.5747933 & group3 & 13 &  -7.2 & 1\\\\\n",
       "\t20 & subgroup\\_14 & 0.6154398 & group3 & 14 & -21.6 & 1\\\\\n",
       "\\end{tabular}\n"
      ],
      "text/markdown": [
       "\n",
       "A data.frame: 9 × 6\n",
       "\n",
       "| <!--/--> | name &lt;fct&gt; | value &lt;dbl&gt; | group &lt;fct&gt; | id &lt;int&gt; | angle &lt;dbl&gt; | hjust &lt;dbl&gt; |\n",
       "|---|---|---|---|---|---|---|\n",
       "| 12 | subgroup_6  | 0.6796853 | group2 |  6 | -86.4 | 0 |\n",
       "| 13 | subgroup_7  | 0.6090466 | group2 |  7 |  79.2 | 1 |\n",
       "| 14 | subgroup_8  | 0.9110715 | group2 |  8 |  64.8 | 1 |\n",
       "| 15 | subgroup_9  | 0.5634806 | group2 |  9 |  50.4 | 1 |\n",
       "| 16 | subgroup_10 | 0.7823179 | group2 | 10 |  36.0 | 1 |\n",
       "| 17 | subgroup_11 | 0.3983178 | group3 | 11 |  21.6 | 1 |\n",
       "| 18 | subgroup_12 | 0.3933066 | group3 | 12 |   7.2 | 1 |\n",
       "| 19 | subgroup_13 | 0.5747933 | group3 | 13 |  -7.2 | 1 |\n",
       "| 20 | subgroup_14 | 0.6154398 | group3 | 14 | -21.6 | 1 |\n",
       "\n"
      ],
      "text/plain": [
       "   name        value     group  id angle hjust\n",
       "12 subgroup_6  0.6796853 group2  6 -86.4 0    \n",
       "13 subgroup_7  0.6090466 group2  7  79.2 1    \n",
       "14 subgroup_8  0.9110715 group2  8  64.8 1    \n",
       "15 subgroup_9  0.5634806 group2  9  50.4 1    \n",
       "16 subgroup_10 0.7823179 group2 10  36.0 1    \n",
       "17 subgroup_11 0.3983178 group3 11  21.6 1    \n",
       "18 subgroup_12 0.3933066 group3 12   7.2 1    \n",
       "19 subgroup_13 0.5747933 group3 13  -7.2 1    \n",
       "20 subgroup_14 0.6154398 group3 14 -21.6 1    "
      ]
     },
     "metadata": {},
     "output_type": "display_data"
    }
   ],
   "source": [
    "# calculate the alignment of labels: right or left\n",
    "# 判断标签是偏向左边还是右边\n",
    "# hjust表示是否水平翻转\n",
    "vertices$hjust<-ifelse(vertices$angle < -90 & vertices$angle > -270, 1, 0)\n",
    " \n",
    "# flip angle BY to make them readable\n",
    "# 是否翻转标签\n",
    "vertices$angle<-ifelse(vertices$angle < -90 & vertices$angle > -270, vertices$angle+180, vertices$angle)\n",
    "vertices[12:20,]\n",
    "# Create a graph object\n",
    "# 创建图\n",
    "mygraph <- graph_from_data_frame( edges, vertices=vertices )"
   ]
  },
  {
   "cell_type": "code",
   "execution_count": 52,
   "metadata": {},
   "outputs": [
    {
     "data": {
      "text/html": [
       "<table>\n",
       "<caption>A data.frame: 31 × 6</caption>\n",
       "<thead>\n",
       "\t<tr><th scope=col>name</th><th scope=col>value</th><th scope=col>group</th><th scope=col>id</th><th scope=col>angle</th><th scope=col>hjust</th></tr>\n",
       "\t<tr><th scope=col>&lt;fct&gt;</th><th scope=col>&lt;dbl&gt;</th><th scope=col>&lt;fct&gt;</th><th scope=col>&lt;int&gt;</th><th scope=col>&lt;dbl&gt;</th><th scope=col>&lt;dbl&gt;</th></tr>\n",
       "</thead>\n",
       "<tbody>\n",
       "\t<tr><td>origin     </td><td>0.26946595</td><td>NA    </td><td>NA</td><td>    NA</td><td>NA</td></tr>\n",
       "\t<tr><td>group1     </td><td>0.68168456</td><td>origin</td><td>NA</td><td>    NA</td><td>NA</td></tr>\n",
       "\t<tr><td>group2     </td><td>0.28496969</td><td>origin</td><td>NA</td><td>    NA</td><td>NA</td></tr>\n",
       "\t<tr><td>group3     </td><td>0.29556769</td><td>origin</td><td>NA</td><td>    NA</td><td>NA</td></tr>\n",
       "\t<tr><td>group4     </td><td>0.68796411</td><td>origin</td><td>NA</td><td>    NA</td><td>NA</td></tr>\n",
       "\t<tr><td>group5     </td><td>0.26555169</td><td>origin</td><td>NA</td><td>    NA</td><td>NA</td></tr>\n",
       "\t<tr><td>subgroup_1 </td><td>0.13447919</td><td>group1</td><td> 1</td><td> -14.4</td><td> 0</td></tr>\n",
       "\t<tr><td>subgroup_2 </td><td>0.87993752</td><td>group1</td><td> 2</td><td> -28.8</td><td> 0</td></tr>\n",
       "\t<tr><td>subgroup_3 </td><td>0.73281460</td><td>group1</td><td> 3</td><td> -43.2</td><td> 0</td></tr>\n",
       "\t<tr><td>subgroup_4 </td><td>0.05199267</td><td>group1</td><td> 4</td><td> -57.6</td><td> 0</td></tr>\n",
       "\t<tr><td>subgroup_5 </td><td>0.95072049</td><td>group1</td><td> 5</td><td> -72.0</td><td> 0</td></tr>\n",
       "\t<tr><td>subgroup_6 </td><td>0.67968533</td><td>group2</td><td> 6</td><td> -86.4</td><td> 0</td></tr>\n",
       "\t<tr><td>subgroup_7 </td><td>0.60904665</td><td>group2</td><td> 7</td><td>  79.2</td><td> 1</td></tr>\n",
       "\t<tr><td>subgroup_8 </td><td>0.91107152</td><td>group2</td><td> 8</td><td>  64.8</td><td> 1</td></tr>\n",
       "\t<tr><td>subgroup_9 </td><td>0.56348062</td><td>group2</td><td> 9</td><td>  50.4</td><td> 1</td></tr>\n",
       "\t<tr><td>subgroup_10</td><td>0.78231794</td><td>group2</td><td>10</td><td>  36.0</td><td> 1</td></tr>\n",
       "\t<tr><td>subgroup_11</td><td>0.39831777</td><td>group3</td><td>11</td><td>  21.6</td><td> 1</td></tr>\n",
       "\t<tr><td>subgroup_12</td><td>0.39330663</td><td>group3</td><td>12</td><td>   7.2</td><td> 1</td></tr>\n",
       "\t<tr><td>subgroup_13</td><td>0.57479330</td><td>group3</td><td>13</td><td>  -7.2</td><td> 1</td></tr>\n",
       "\t<tr><td>subgroup_14</td><td>0.61543980</td><td>group3</td><td>14</td><td> -21.6</td><td> 1</td></tr>\n",
       "\t<tr><td>subgroup_15</td><td>0.05581496</td><td>group3</td><td>15</td><td> -36.0</td><td> 1</td></tr>\n",
       "\t<tr><td>subgroup_16</td><td>0.34000915</td><td>group4</td><td>16</td><td> -50.4</td><td> 1</td></tr>\n",
       "\t<tr><td>subgroup_17</td><td>0.65765123</td><td>group4</td><td>17</td><td> -64.8</td><td> 1</td></tr>\n",
       "\t<tr><td>subgroup_18</td><td>0.63469281</td><td>group4</td><td>18</td><td> -79.2</td><td> 1</td></tr>\n",
       "\t<tr><td>subgroup_19</td><td>0.41069057</td><td>group4</td><td>19</td><td>-273.6</td><td> 0</td></tr>\n",
       "\t<tr><td>subgroup_20</td><td>0.07418380</td><td>group4</td><td>20</td><td>-288.0</td><td> 0</td></tr>\n",
       "\t<tr><td>subgroup_21</td><td>0.23007252</td><td>group5</td><td>21</td><td>-302.4</td><td> 0</td></tr>\n",
       "\t<tr><td>subgroup_22</td><td>0.86334833</td><td>group5</td><td>22</td><td>-316.8</td><td> 0</td></tr>\n",
       "\t<tr><td>subgroup_23</td><td>0.01567696</td><td>group5</td><td>23</td><td>-331.2</td><td> 0</td></tr>\n",
       "\t<tr><td>subgroup_24</td><td>0.53860661</td><td>group5</td><td>24</td><td>-345.6</td><td> 0</td></tr>\n",
       "\t<tr><td>subgroup_25</td><td>0.74063768</td><td>group5</td><td>25</td><td>-360.0</td><td> 0</td></tr>\n",
       "</tbody>\n",
       "</table>\n"
      ],
      "text/latex": [
       "A data.frame: 31 × 6\n",
       "\\begin{tabular}{r|llllll}\n",
       " name & value & group & id & angle & hjust\\\\\n",
       " <fct> & <dbl> & <fct> & <int> & <dbl> & <dbl>\\\\\n",
       "\\hline\n",
       "\t origin      & 0.26946595 & NA     & NA &     NA & NA\\\\\n",
       "\t group1      & 0.68168456 & origin & NA &     NA & NA\\\\\n",
       "\t group2      & 0.28496969 & origin & NA &     NA & NA\\\\\n",
       "\t group3      & 0.29556769 & origin & NA &     NA & NA\\\\\n",
       "\t group4      & 0.68796411 & origin & NA &     NA & NA\\\\\n",
       "\t group5      & 0.26555169 & origin & NA &     NA & NA\\\\\n",
       "\t subgroup\\_1  & 0.13447919 & group1 &  1 &  -14.4 &  0\\\\\n",
       "\t subgroup\\_2  & 0.87993752 & group1 &  2 &  -28.8 &  0\\\\\n",
       "\t subgroup\\_3  & 0.73281460 & group1 &  3 &  -43.2 &  0\\\\\n",
       "\t subgroup\\_4  & 0.05199267 & group1 &  4 &  -57.6 &  0\\\\\n",
       "\t subgroup\\_5  & 0.95072049 & group1 &  5 &  -72.0 &  0\\\\\n",
       "\t subgroup\\_6  & 0.67968533 & group2 &  6 &  -86.4 &  0\\\\\n",
       "\t subgroup\\_7  & 0.60904665 & group2 &  7 &   79.2 &  1\\\\\n",
       "\t subgroup\\_8  & 0.91107152 & group2 &  8 &   64.8 &  1\\\\\n",
       "\t subgroup\\_9  & 0.56348062 & group2 &  9 &   50.4 &  1\\\\\n",
       "\t subgroup\\_10 & 0.78231794 & group2 & 10 &   36.0 &  1\\\\\n",
       "\t subgroup\\_11 & 0.39831777 & group3 & 11 &   21.6 &  1\\\\\n",
       "\t subgroup\\_12 & 0.39330663 & group3 & 12 &    7.2 &  1\\\\\n",
       "\t subgroup\\_13 & 0.57479330 & group3 & 13 &   -7.2 &  1\\\\\n",
       "\t subgroup\\_14 & 0.61543980 & group3 & 14 &  -21.6 &  1\\\\\n",
       "\t subgroup\\_15 & 0.05581496 & group3 & 15 &  -36.0 &  1\\\\\n",
       "\t subgroup\\_16 & 0.34000915 & group4 & 16 &  -50.4 &  1\\\\\n",
       "\t subgroup\\_17 & 0.65765123 & group4 & 17 &  -64.8 &  1\\\\\n",
       "\t subgroup\\_18 & 0.63469281 & group4 & 18 &  -79.2 &  1\\\\\n",
       "\t subgroup\\_19 & 0.41069057 & group4 & 19 & -273.6 &  0\\\\\n",
       "\t subgroup\\_20 & 0.07418380 & group4 & 20 & -288.0 &  0\\\\\n",
       "\t subgroup\\_21 & 0.23007252 & group5 & 21 & -302.4 &  0\\\\\n",
       "\t subgroup\\_22 & 0.86334833 & group5 & 22 & -316.8 &  0\\\\\n",
       "\t subgroup\\_23 & 0.01567696 & group5 & 23 & -331.2 &  0\\\\\n",
       "\t subgroup\\_24 & 0.53860661 & group5 & 24 & -345.6 &  0\\\\\n",
       "\t subgroup\\_25 & 0.74063768 & group5 & 25 & -360.0 &  0\\\\\n",
       "\\end{tabular}\n"
      ],
      "text/markdown": [
       "\n",
       "A data.frame: 31 × 6\n",
       "\n",
       "| name &lt;fct&gt; | value &lt;dbl&gt; | group &lt;fct&gt; | id &lt;int&gt; | angle &lt;dbl&gt; | hjust &lt;dbl&gt; |\n",
       "|---|---|---|---|---|---|\n",
       "| origin      | 0.26946595 | NA     | NA |     NA | NA |\n",
       "| group1      | 0.68168456 | origin | NA |     NA | NA |\n",
       "| group2      | 0.28496969 | origin | NA |     NA | NA |\n",
       "| group3      | 0.29556769 | origin | NA |     NA | NA |\n",
       "| group4      | 0.68796411 | origin | NA |     NA | NA |\n",
       "| group5      | 0.26555169 | origin | NA |     NA | NA |\n",
       "| subgroup_1  | 0.13447919 | group1 |  1 |  -14.4 |  0 |\n",
       "| subgroup_2  | 0.87993752 | group1 |  2 |  -28.8 |  0 |\n",
       "| subgroup_3  | 0.73281460 | group1 |  3 |  -43.2 |  0 |\n",
       "| subgroup_4  | 0.05199267 | group1 |  4 |  -57.6 |  0 |\n",
       "| subgroup_5  | 0.95072049 | group1 |  5 |  -72.0 |  0 |\n",
       "| subgroup_6  | 0.67968533 | group2 |  6 |  -86.4 |  0 |\n",
       "| subgroup_7  | 0.60904665 | group2 |  7 |   79.2 |  1 |\n",
       "| subgroup_8  | 0.91107152 | group2 |  8 |   64.8 |  1 |\n",
       "| subgroup_9  | 0.56348062 | group2 |  9 |   50.4 |  1 |\n",
       "| subgroup_10 | 0.78231794 | group2 | 10 |   36.0 |  1 |\n",
       "| subgroup_11 | 0.39831777 | group3 | 11 |   21.6 |  1 |\n",
       "| subgroup_12 | 0.39330663 | group3 | 12 |    7.2 |  1 |\n",
       "| subgroup_13 | 0.57479330 | group3 | 13 |   -7.2 |  1 |\n",
       "| subgroup_14 | 0.61543980 | group3 | 14 |  -21.6 |  1 |\n",
       "| subgroup_15 | 0.05581496 | group3 | 15 |  -36.0 |  1 |\n",
       "| subgroup_16 | 0.34000915 | group4 | 16 |  -50.4 |  1 |\n",
       "| subgroup_17 | 0.65765123 | group4 | 17 |  -64.8 |  1 |\n",
       "| subgroup_18 | 0.63469281 | group4 | 18 |  -79.2 |  1 |\n",
       "| subgroup_19 | 0.41069057 | group4 | 19 | -273.6 |  0 |\n",
       "| subgroup_20 | 0.07418380 | group4 | 20 | -288.0 |  0 |\n",
       "| subgroup_21 | 0.23007252 | group5 | 21 | -302.4 |  0 |\n",
       "| subgroup_22 | 0.86334833 | group5 | 22 | -316.8 |  0 |\n",
       "| subgroup_23 | 0.01567696 | group5 | 23 | -331.2 |  0 |\n",
       "| subgroup_24 | 0.53860661 | group5 | 24 | -345.6 |  0 |\n",
       "| subgroup_25 | 0.74063768 | group5 | 25 | -360.0 |  0 |\n",
       "\n"
      ],
      "text/plain": [
       "   name        value      group  id angle  hjust\n",
       "1  origin      0.26946595 NA     NA     NA NA   \n",
       "2  group1      0.68168456 origin NA     NA NA   \n",
       "3  group2      0.28496969 origin NA     NA NA   \n",
       "4  group3      0.29556769 origin NA     NA NA   \n",
       "5  group4      0.68796411 origin NA     NA NA   \n",
       "6  group5      0.26555169 origin NA     NA NA   \n",
       "7  subgroup_1  0.13447919 group1  1  -14.4  0   \n",
       "8  subgroup_2  0.87993752 group1  2  -28.8  0   \n",
       "9  subgroup_3  0.73281460 group1  3  -43.2  0   \n",
       "10 subgroup_4  0.05199267 group1  4  -57.6  0   \n",
       "11 subgroup_5  0.95072049 group1  5  -72.0  0   \n",
       "12 subgroup_6  0.67968533 group2  6  -86.4  0   \n",
       "13 subgroup_7  0.60904665 group2  7   79.2  1   \n",
       "14 subgroup_8  0.91107152 group2  8   64.8  1   \n",
       "15 subgroup_9  0.56348062 group2  9   50.4  1   \n",
       "16 subgroup_10 0.78231794 group2 10   36.0  1   \n",
       "17 subgroup_11 0.39831777 group3 11   21.6  1   \n",
       "18 subgroup_12 0.39330663 group3 12    7.2  1   \n",
       "19 subgroup_13 0.57479330 group3 13   -7.2  1   \n",
       "20 subgroup_14 0.61543980 group3 14  -21.6  1   \n",
       "21 subgroup_15 0.05581496 group3 15  -36.0  1   \n",
       "22 subgroup_16 0.34000915 group4 16  -50.4  1   \n",
       "23 subgroup_17 0.65765123 group4 17  -64.8  1   \n",
       "24 subgroup_18 0.63469281 group4 18  -79.2  1   \n",
       "25 subgroup_19 0.41069057 group4 19 -273.6  0   \n",
       "26 subgroup_20 0.07418380 group4 20 -288.0  0   \n",
       "27 subgroup_21 0.23007252 group5 21 -302.4  0   \n",
       "28 subgroup_22 0.86334833 group5 22 -316.8  0   \n",
       "29 subgroup_23 0.01567696 group5 23 -331.2  0   \n",
       "30 subgroup_24 0.53860661 group5 24 -345.6  0   \n",
       "31 subgroup_25 0.74063768 group5 25 -360.0  0   "
      ]
     },
     "metadata": {},
     "output_type": "display_data"
    }
   ],
   "source": [
    "vertices"
   ]
  },
  {
   "cell_type": "code",
   "execution_count": 53,
   "metadata": {},
   "outputs": [
    {
     "data": {
      "image/png": "[encoded data removed]",
      "text/plain": [
       "plot without title"
      ]
     },
     "metadata": {
      "image/png": {
       "height": 420,
       "width": 420
      },
      "text/plain": {
       "height": 420,
       "width": 420
      }
     },
     "output_type": "display_data"
    }
   ],
   "source": [
    "# Make the plot\n",
    "p<-ggraph(mygraph, layout = 'dendrogram', circular = TRUE) + \n",
    "    # 设置边\n",
    "    geom_edge_diagonal(colour=\"grey\") +\n",
    "    # 设置边的颜色\n",
    "    scale_edge_colour_distiller(palette = \"RdPu\") +\n",
    "    # 设置点的标签\n",
    "    geom_node_text(aes(x = x*1.15, y=y*1.15, filter = leaf, label=name, angle = angle, hjust=hjust, colour=group), size=2.7, alpha=1) +\n",
    "    # 设置点的形状\n",
    "    geom_node_point(aes(filter = leaf, x = x*1.07, y=y*1.07, colour=group, size=value, alpha=0.2)) +\n",
    "    # 控制颜色\n",
    "    scale_colour_manual(values= rep( brewer.pal(9,\"Paired\") , 30)) +\n",
    "    scale_size_continuous( range = c(0.1,10) ) +\n",
    "    theme_void() +\n",
    "    theme( \n",
    "        # 不显示图例\n",
    "        legend.position=\"none\",\n",
    "        plot.margin=unit(c(0,0,0,0),\"cm\"),\n",
    "    ) +\n",
    "    expand_limits(x = c(-1.3, 1.3), y = c(-1.3, 1.3))\n",
    "p\n",
    "# 保存数据 Save at png\n",
    "ggsave(p, file=\"output.png\", width=10, height=10,dpi=300)"
   ]
  },
  {
   "cell_type": "markdown",
   "metadata": {},
   "source": [
    "另外对于标签角度的设置多说几句，不同的平台标签角度设置不一样。标签的角度设置主要有以下三行代码：\n",
    "```\n",
    "# 添加角度\n",
    "vertices$angle= -360 * vertices$id / nleaves\n",
    "# hjust表示是否水平翻转\n",
    "vertices$hjust<-ifelse(vertices$angle < -90 & vertices$angle > -270, 1, 0)\n",
    "# 是否翻转标签\n",
    "vertices$angle<-ifelse(vertices$angle < -90 & vertices$angle > -270, vertices$angle+180, vertices$angle)\n",
    "```\n",
    "\n",
    "第一行代码指的是给每个标签赋予一个角度值，通常设置这一行，其他两行不设置，或者跳过，图形基本上就会完成。只不过在环形左半边标签是翻转的，就是字朝下。如果要字朝上就设置先水平反正左边的标签，然后180度旋转左边的标签，右边标签不变就行了。\n",
    "\n",
    "比如通过第一行我们获得的角度值，subgroup_7到subgroup_18处于左半边，角度其实范围为-90到-270度，所以通过第二行和第三行代码只要设置-90度到-270度的点，水平翻转然后翻转标签就行了。"
   ]
  },
  {
   "cell_type": "markdown",
   "metadata": {},
   "source": [
    "# 2 聚类结果的树形图 DENDROGRAM FROM CLUSTERING RESULT.\n",
    "层次聚类是数据科学中的一项常见任务，可以使用R中的hclust()函数来执行。下面的示例将指导您完成整个过程，演示如何准备数据、如何运行聚类以及如何构建适当的图表以可视化其结果。"
   ]
  },
  {
   "cell_type": "markdown",
   "metadata": {},
   "source": [
    "## 2.1 用R进行聚类的最基本树形图 Most basic dendrogram for clustering with R\n",
    "聚类允许通过相似性将样本分组，并且其结果可以可视化为树形图。这篇文章描述了该hclust()函数的基本用法，并根据其输出构建树形图。对于层次聚类树形图有以下极大要素：\n",
    "+ 输入数据集是一个矩阵，其中每一行是一个样本，每一列是一个变量。可以使用t()函数转置矩阵。\n",
    "+ 聚类是在提供样本之间距离的正方形矩阵（sample x sample）上执行的，距离矩阵可以使用dist()或cor()函数计算，具体取决于您提出的问题\n",
    "+ hclust()函数用于执行分层聚类\n",
    "+ 它的输出可以用plot()函数直接可视化。请参阅可能的自定义。"
   ]
  },
  {
   "cell_type": "markdown",
   "metadata": {},
   "source": [
    "**首先产生数据集**"
   ]
  },
  {
   "cell_type": "code",
   "execution_count": 54,
   "metadata": {},
   "outputs": [
    {
     "data": {
      "text/html": [
       "<table>\n",
       "<caption>A matrix: 20 × 10 of type int</caption>\n",
       "<thead>\n",
       "\t<tr><th></th><th scope=col>variable1</th><th scope=col>variable2</th><th scope=col>variable3</th><th scope=col>variable4</th><th scope=col>variable5</th><th scope=col>variable6</th><th scope=col>variable7</th><th scope=col>variable8</th><th scope=col>variable9</th><th scope=col>variable10</th></tr>\n",
       "</thead>\n",
       "<tbody>\n",
       "\t<tr><th scope=row>sample_1</th><td>  49</td><td> 863</td><td> 888</td><td> 361</td><td>1285</td><td>1695</td><td> 258</td><td> 821</td><td> 459</td><td>1715</td></tr>\n",
       "\t<tr><th scope=row>sample_2</th><td> 251</td><td> 673</td><td>1096</td><td> 963</td><td>1874</td><td>1837</td><td> 876</td><td>1329</td><td>1565</td><td>1286</td></tr>\n",
       "\t<tr><th scope=row>sample_3</th><td> 156</td><td> 220</td><td>  73</td><td> 726</td><td>1356</td><td>1951</td><td> 108</td><td> 751</td><td>1218</td><td> 823</td></tr>\n",
       "\t<tr><th scope=row>sample_4</th><td>1241</td><td> 363</td><td> 367</td><td>1097</td><td> 847</td><td> 275</td><td>1415</td><td> 582</td><td> 646</td><td> 711</td></tr>\n",
       "\t<tr><th scope=row>sample_5</th><td> 533</td><td>1006</td><td> 440</td><td>1962</td><td> 510</td><td>  70</td><td> 732</td><td>   5</td><td> 584</td><td> 899</td></tr>\n",
       "\t<tr><th scope=row>sample_6</th><td>1443</td><td>1758</td><td> 204</td><td>1216</td><td>1248</td><td> 307</td><td>1072</td><td>1975</td><td> 719</td><td>1776</td></tr>\n",
       "\t<tr><th scope=row>sample_7</th><td> 412</td><td>   8</td><td>1983</td><td> 665</td><td> 197</td><td>1347</td><td> 612</td><td> 656</td><td> 557</td><td> 186</td></tr>\n",
       "\t<tr><th scope=row>sample_8</th><td>1856</td><td>1850</td><td> 548</td><td> 957</td><td> 150</td><td> 296</td><td> 405</td><td>1340</td><td>1088</td><td> 672</td></tr>\n",
       "\t<tr><th scope=row>sample_9</th><td> 994</td><td>1171</td><td> 233</td><td>1656</td><td>1732</td><td> 953</td><td>1651</td><td> 918</td><td>  60</td><td>1676</td></tr>\n",
       "\t<tr><th scope=row>sample_10</th><td> 715</td><td> 272</td><td> 368</td><td> 670</td><td> 688</td><td>1743</td><td> 724</td><td>1956</td><td> 897</td><td>1974</td></tr>\n",
       "\t<tr><th scope=row>sample_11</th><td> 820</td><td>1374</td><td> 934</td><td>  65</td><td> 842</td><td>1269</td><td> 917</td><td> 581</td><td> 324</td><td>   1</td></tr>\n",
       "\t<tr><th scope=row>sample_12</th><td>1692</td><td> 915</td><td> 944</td><td> 824</td><td> 164</td><td> 378</td><td>1439</td><td>1298</td><td> 270</td><td> 389</td></tr>\n",
       "\t<tr><th scope=row>sample_13</th><td> 128</td><td> 707</td><td> 286</td><td> 444</td><td>1893</td><td>1179</td><td>  28</td><td> 778</td><td>1172</td><td> 916</td></tr>\n",
       "\t<tr><th scope=row>sample_14</th><td> 805</td><td>1847</td><td> 308</td><td>1536</td><td>1008</td><td> 236</td><td>1631</td><td> 628</td><td>1943</td><td>1270</td></tr>\n",
       "\t<tr><th scope=row>sample_15</th><td>1585</td><td> 997</td><td>1933</td><td>1135</td><td> 651</td><td>1447</td><td>1598</td><td> 402</td><td>1205</td><td> 339</td></tr>\n",
       "\t<tr><th scope=row>sample_16</th><td> 151</td><td> 216</td><td> 427</td><td> 735</td><td> 773</td><td>1001</td><td> 684</td><td>1700</td><td>1639</td><td>1782</td></tr>\n",
       "\t<tr><th scope=row>sample_17</th><td> 408</td><td>1303</td><td> 449</td><td>1906</td><td>1965</td><td> 752</td><td> 381</td><td>1637</td><td>1894</td><td>1524</td></tr>\n",
       "\t<tr><th scope=row>sample_18</th><td> 257</td><td>1859</td><td>1871</td><td>  81</td><td>1696</td><td>1886</td><td>1774</td><td>1845</td><td> 839</td><td> 152</td></tr>\n",
       "\t<tr><th scope=row>sample_19</th><td> 840</td><td>1240</td><td>1188</td><td> 437</td><td>1125</td><td> 256</td><td> 960</td><td>1401</td><td> 193</td><td>1552</td></tr>\n",
       "\t<tr><th scope=row>sample_20</th><td>1902</td><td>1087</td><td>1112</td><td>1481</td><td> 353</td><td> 407</td><td> 199</td><td>  71</td><td> 547</td><td> 404</td></tr>\n",
       "</tbody>\n",
       "</table>\n"
      ],
      "text/latex": [
       "A matrix: 20 × 10 of type int\n",
       "\\begin{tabular}{r|llllllllll}\n",
       "  & variable1 & variable2 & variable3 & variable4 & variable5 & variable6 & variable7 & variable8 & variable9 & variable10\\\\\n",
       "\\hline\n",
       "\tsample\\_1 &   49 &  863 &  888 &  361 & 1285 & 1695 &  258 &  821 &  459 & 1715\\\\\n",
       "\tsample\\_2 &  251 &  673 & 1096 &  963 & 1874 & 1837 &  876 & 1329 & 1565 & 1286\\\\\n",
       "\tsample\\_3 &  156 &  220 &   73 &  726 & 1356 & 1951 &  108 &  751 & 1218 &  823\\\\\n",
       "\tsample\\_4 & 1241 &  363 &  367 & 1097 &  847 &  275 & 1415 &  582 &  646 &  711\\\\\n",
       "\tsample\\_5 &  533 & 1006 &  440 & 1962 &  510 &   70 &  732 &    5 &  584 &  899\\\\\n",
       "\tsample\\_6 & 1443 & 1758 &  204 & 1216 & 1248 &  307 & 1072 & 1975 &  719 & 1776\\\\\n",
       "\tsample\\_7 &  412 &    8 & 1983 &  665 &  197 & 1347 &  612 &  656 &  557 &  186\\\\\n",
       "\tsample\\_8 & 1856 & 1850 &  548 &  957 &  150 &  296 &  405 & 1340 & 1088 &  672\\\\\n",
       "\tsample\\_9 &  994 & 1171 &  233 & 1656 & 1732 &  953 & 1651 &  918 &   60 & 1676\\\\\n",
       "\tsample\\_10 &  715 &  272 &  368 &  670 &  688 & 1743 &  724 & 1956 &  897 & 1974\\\\\n",
       "\tsample\\_11 &  820 & 1374 &  934 &   65 &  842 & 1269 &  917 &  581 &  324 &    1\\\\\n",
       "\tsample\\_12 & 1692 &  915 &  944 &  824 &  164 &  378 & 1439 & 1298 &  270 &  389\\\\\n",
       "\tsample\\_13 &  128 &  707 &  286 &  444 & 1893 & 1179 &   28 &  778 & 1172 &  916\\\\\n",
       "\tsample\\_14 &  805 & 1847 &  308 & 1536 & 1008 &  236 & 1631 &  628 & 1943 & 1270\\\\\n",
       "\tsample\\_15 & 1585 &  997 & 1933 & 1135 &  651 & 1447 & 1598 &  402 & 1205 &  339\\\\\n",
       "\tsample\\_16 &  151 &  216 &  427 &  735 &  773 & 1001 &  684 & 1700 & 1639 & 1782\\\\\n",
       "\tsample\\_17 &  408 & 1303 &  449 & 1906 & 1965 &  752 &  381 & 1637 & 1894 & 1524\\\\\n",
       "\tsample\\_18 &  257 & 1859 & 1871 &   81 & 1696 & 1886 & 1774 & 1845 &  839 &  152\\\\\n",
       "\tsample\\_19 &  840 & 1240 & 1188 &  437 & 1125 &  256 &  960 & 1401 &  193 & 1552\\\\\n",
       "\tsample\\_20 & 1902 & 1087 & 1112 & 1481 &  353 &  407 &  199 &   71 &  547 &  404\\\\\n",
       "\\end{tabular}\n"
      ],
      "text/markdown": [
       "\n",
       "A matrix: 20 × 10 of type int\n",
       "\n",
       "| <!--/--> | variable1 | variable2 | variable3 | variable4 | variable5 | variable6 | variable7 | variable8 | variable9 | variable10 |\n",
       "|---|---|---|---|---|---|---|---|---|---|---|\n",
       "| sample_1 |   49 |  863 |  888 |  361 | 1285 | 1695 |  258 |  821 |  459 | 1715 |\n",
       "| sample_2 |  251 |  673 | 1096 |  963 | 1874 | 1837 |  876 | 1329 | 1565 | 1286 |\n",
       "| sample_3 |  156 |  220 |   73 |  726 | 1356 | 1951 |  108 |  751 | 1218 |  823 |\n",
       "| sample_4 | 1241 |  363 |  367 | 1097 |  847 |  275 | 1415 |  582 |  646 |  711 |\n",
       "| sample_5 |  533 | 1006 |  440 | 1962 |  510 |   70 |  732 |    5 |  584 |  899 |\n",
       "| sample_6 | 1443 | 1758 |  204 | 1216 | 1248 |  307 | 1072 | 1975 |  719 | 1776 |\n",
       "| sample_7 |  412 |    8 | 1983 |  665 |  197 | 1347 |  612 |  656 |  557 |  186 |\n",
       "| sample_8 | 1856 | 1850 |  548 |  957 |  150 |  296 |  405 | 1340 | 1088 |  672 |\n",
       "| sample_9 |  994 | 1171 |  233 | 1656 | 1732 |  953 | 1651 |  918 |   60 | 1676 |\n",
       "| sample_10 |  715 |  272 |  368 |  670 |  688 | 1743 |  724 | 1956 |  897 | 1974 |\n",
       "| sample_11 |  820 | 1374 |  934 |   65 |  842 | 1269 |  917 |  581 |  324 |    1 |\n",
       "| sample_12 | 1692 |  915 |  944 |  824 |  164 |  378 | 1439 | 1298 |  270 |  389 |\n",
       "| sample_13 |  128 |  707 |  286 |  444 | 1893 | 1179 |   28 |  778 | 1172 |  916 |\n",
       "| sample_14 |  805 | 1847 |  308 | 1536 | 1008 |  236 | 1631 |  628 | 1943 | 1270 |\n",
       "| sample_15 | 1585 |  997 | 1933 | 1135 |  651 | 1447 | 1598 |  402 | 1205 |  339 |\n",
       "| sample_16 |  151 |  216 |  427 |  735 |  773 | 1001 |  684 | 1700 | 1639 | 1782 |\n",
       "| sample_17 |  408 | 1303 |  449 | 1906 | 1965 |  752 |  381 | 1637 | 1894 | 1524 |\n",
       "| sample_18 |  257 | 1859 | 1871 |   81 | 1696 | 1886 | 1774 | 1845 |  839 |  152 |\n",
       "| sample_19 |  840 | 1240 | 1188 |  437 | 1125 |  256 |  960 | 1401 |  193 | 1552 |\n",
       "| sample_20 | 1902 | 1087 | 1112 | 1481 |  353 |  407 |  199 |   71 |  547 |  404 |\n",
       "\n"
      ],
      "text/plain": [
       "          variable1 variable2 variable3 variable4 variable5 variable6 variable7\n",
       "sample_1    49       863       888       361      1285      1695       258     \n",
       "sample_2   251       673      1096       963      1874      1837       876     \n",
       "sample_3   156       220        73       726      1356      1951       108     \n",
       "sample_4  1241       363       367      1097       847       275      1415     \n",
       "sample_5   533      1006       440      1962       510        70       732     \n",
       "sample_6  1443      1758       204      1216      1248       307      1072     \n",
       "sample_7   412         8      1983       665       197      1347       612     \n",
       "sample_8  1856      1850       548       957       150       296       405     \n",
       "sample_9   994      1171       233      1656      1732       953      1651     \n",
       "sample_10  715       272       368       670       688      1743       724     \n",
       "sample_11  820      1374       934        65       842      1269       917     \n",
       "sample_12 1692       915       944       824       164       378      1439     \n",
       "sample_13  128       707       286       444      1893      1179        28     \n",
       "sample_14  805      1847       308      1536      1008       236      1631     \n",
       "sample_15 1585       997      1933      1135       651      1447      1598     \n",
       "sample_16  151       216       427       735       773      1001       684     \n",
       "sample_17  408      1303       449      1906      1965       752       381     \n",
       "sample_18  257      1859      1871        81      1696      1886      1774     \n",
       "sample_19  840      1240      1188       437      1125       256       960     \n",
       "sample_20 1902      1087      1112      1481       353       407       199     \n",
       "          variable8 variable9 variable10\n",
       "sample_1   821       459      1715      \n",
       "sample_2  1329      1565      1286      \n",
       "sample_3   751      1218       823      \n",
       "sample_4   582       646       711      \n",
       "sample_5     5       584       899      \n",
       "sample_6  1975       719      1776      \n",
       "sample_7   656       557       186      \n",
       "sample_8  1340      1088       672      \n",
       "sample_9   918        60      1676      \n",
       "sample_10 1956       897      1974      \n",
       "sample_11  581       324         1      \n",
       "sample_12 1298       270       389      \n",
       "sample_13  778      1172       916      \n",
       "sample_14  628      1943      1270      \n",
       "sample_15  402      1205       339      \n",
       "sample_16 1700      1639      1782      \n",
       "sample_17 1637      1894      1524      \n",
       "sample_18 1845       839       152      \n",
       "sample_19 1401       193      1552      \n",
       "sample_20   71       547       404      "
      ]
     },
     "metadata": {},
     "output_type": "display_data"
    },
    {
     "data": {
      "text/html": [
       "<ol class=list-inline>\n",
       "\t<li>20</li>\n",
       "\t<li>10</li>\n",
       "</ol>\n"
      ],
      "text/latex": [
       "\\begin{enumerate*}\n",
       "\\item 20\n",
       "\\item 10\n",
       "\\end{enumerate*}\n"
      ],
      "text/markdown": [
       "1. 20\n",
       "2. 10\n",
       "\n",
       "\n"
      ],
      "text/plain": [
       "[1] 20 10"
      ]
     },
     "metadata": {},
     "output_type": "display_data"
    }
   ],
   "source": [
    "# Dataset \n",
    "data <- matrix( sample(seq(1,2000),200), ncol = 10 )\n",
    "rownames(data) <- paste0(\"sample_\" , seq(1,20))\n",
    "colnames(data) <- paste0(\"variable\",seq(1,10))\n",
    "data\n",
    "dim(data)"
   ]
  },
  {
   "cell_type": "code",
   "execution_count": 55,
   "metadata": {},
   "outputs": [
    {
     "data": {
      "image/png": "[encoded data removed]",
      "text/plain": [
       "Plot with title \"Cluster Dendrogram\""
      ]
     },
     "metadata": {
      "image/png": {
       "height": 420,
       "width": 420
      },
      "text/plain": {
       "height": 420,
       "width": 420
      }
     },
     "output_type": "display_data"
    }
   ],
   "source": [
    "# Euclidean distance\n",
    "# 计算欧式距离\n",
    "dist <- dist(data[ , c(4:8)] , diag=TRUE)\n",
    "\n",
    "# Hierarchical Clustering with hclust\n",
    "# 分层聚类\n",
    "hc <- hclust(dist)\n",
    "\n",
    "# Plot the result\n",
    "plot(hc)"
   ]
  },
  {
   "cell_type": "markdown",
   "metadata": {},
   "source": [
    "对于层次聚类主要有以下几个原则：\n",
    "+ 基于目标之间的距离。\n",
    "+ 寻找两个目标之间的最小距离。\n",
    "+ 将两个目标对象聚合在一个簇中。\n",
    "+ 用目标群的中心进行计算。直到只有一个簇包含每个点。"
   ]
  },
  {
   "cell_type": "markdown",
   "metadata": {},
   "source": [
    "## 2.2 放大分支 Zoom on a group\n",
    "我们可以放大树的特定部分。使用[[ ]]运算符选择感兴趣的枝条。例如：\n",
    "```\n",
    "# 将上面的树形图存入dhc\n",
    "dhc <- as.dendrogram(hc)\n",
    "dhc[[1]] 表示从上到下第一层，其中从左往右第一个枝条\n",
    "dhc[[2]][[2]] 表示从上到下第二层，其中从左往右第二个枝条\n",
    "```"
   ]
  },
  {
   "cell_type": "markdown",
   "metadata": {},
   "source": [
    "下面代码，所示展示2.1节所画层次树第一层右边部分分支"
   ]
  },
  {
   "cell_type": "code",
   "execution_count": 56,
   "metadata": {},
   "outputs": [
    {
     "name": "stdout",
     "output_type": "stream",
     "text": [
      "'dendrogram' with 2 branches and 14 members total, at height 2795.492 \n"
     ]
    },
    {
     "data": {
      "image/png": "[encoded data removed]",
      "text/plain": [
       "Plot with title \"zoom on a part of the dendrogram\""
      ]
     },
     "metadata": {
      "image/png": {
       "height": 420,
       "width": 420
      },
      "text/plain": {
       "height": 420,
       "width": 420
      }
     },
     "output_type": "display_data"
    }
   ],
   "source": [
    "# store the dedrogram in an object\n",
    "# 保存聚类结果为dhc变量\n",
    "dhc <- as.dendrogram(hc)\n",
    "\n",
    "# set the margin\n",
    "par(mar=c(4,4,2,2))\n",
    "# 打印会告诉你分支情况\n",
    "print(dhc[[2]])\n",
    "# Plot the Second group\n",
    "# 绘图\n",
    "plot(dhc[[2]] , main= \"zoom on a part of the dendrogram\")"
   ]
  },
  {
   "cell_type": "markdown",
   "metadata": {},
   "source": [
    "下面代码，所示展示2.1节所画层次树第一层右边部分的第二个分支"
   ]
  },
  {
   "cell_type": "code",
   "execution_count": 57,
   "metadata": {},
   "outputs": [
    {
     "name": "stdout",
     "output_type": "stream",
     "text": [
      "'dendrogram' with 2 branches and 9 members total, at height 2107.407 \n"
     ]
    },
    {
     "data": {
      "image/png": "[encoded data removed]",
      "text/plain": [
       "Plot with title \"zoom on a part of the dendrogram\""
      ]
     },
     "metadata": {
      "image/png": {
       "height": 420,
       "width": 420
      },
      "text/plain": {
       "height": 420,
       "width": 420
      }
     },
     "output_type": "display_data"
    }
   ],
   "source": [
    "# store the dedrogram in an object\n",
    "dhc <- as.dendrogram(hc)\n",
    "\n",
    "# set the margin\n",
    "par(mar=c(4,4,2,2))\n",
    "\n",
    "print(dhc[[2]][[1]])\n",
    "# Plot the Second group\n",
    "plot(dhc[[2]][[1]] , main= \"zoom on a part of the dendrogram\")"
   ]
  },
  {
   "cell_type": "markdown",
   "metadata": {},
   "source": [
    "## 2.3 绘制带颜色和图例的树形图 Dendrogram with color and legend in R\n",
    "本节主要讲述基本树状图的自定义。展示了如何为叶子和样本名称添加特定的颜色。它允许检查在聚类之后是否确实找到了预期的类。"
   ]
  },
  {
   "cell_type": "markdown",
   "metadata": {},
   "source": [
    "**首先生成数据**"
   ]
  },
  {
   "cell_type": "code",
   "execution_count": 58,
   "metadata": {},
   "outputs": [
    {
     "data": {
      "text/html": [
       "<table>\n",
       "<caption>A data.frame: 6 × 8</caption>\n",
       "<thead>\n",
       "\t<tr><th></th><th scope=col>sample</th><th scope=col>specie</th><th scope=col>treatment</th><th scope=col>gene_1</th><th scope=col>gene_2</th><th scope=col>gene_3</th><th scope=col>gene_4</th><th scope=col>gene_5</th></tr>\n",
       "\t<tr><th></th><th scope=col>&lt;fct&gt;</th><th scope=col>&lt;fct&gt;</th><th scope=col>&lt;fct&gt;</th><th scope=col>&lt;dbl&gt;</th><th scope=col>&lt;dbl&gt;</th><th scope=col>&lt;dbl&gt;</th><th scope=col>&lt;dbl&gt;</th><th scope=col>&lt;dbl&gt;</th></tr>\n",
       "</thead>\n",
       "<tbody>\n",
       "\t<tr><th scope=row>sample_1</th><td>sample_1</td><td>dicoccoides</td><td>High</td><td>126</td><td>133</td><td>110</td><td>111</td><td>135</td></tr>\n",
       "\t<tr><th scope=row>sample_2</th><td>sample_2</td><td>dicoccoides</td><td>High</td><td>130</td><td>130</td><td>111</td><td>121</td><td>113</td></tr>\n",
       "\t<tr><th scope=row>sample_3</th><td>sample_3</td><td>dicoccoides</td><td>High</td><td>124</td><td>135</td><td>115</td><td>125</td><td>140</td></tr>\n",
       "\t<tr><th scope=row>sample_4</th><td>sample_4</td><td>dicoccoides</td><td>High</td><td>111</td><td>109</td><td>135</td><td>135</td><td>132</td></tr>\n",
       "\t<tr><th scope=row>sample_5</th><td>sample_5</td><td>dicoccoides</td><td>Low </td><td> 20</td><td> 34</td><td>  9</td><td> 17</td><td> 37</td></tr>\n",
       "\t<tr><th scope=row>sample_6</th><td>sample_6</td><td>dicoccoides</td><td>Low </td><td> 32</td><td> 26</td><td> 21</td><td>  1</td><td> 24</td></tr>\n",
       "</tbody>\n",
       "</table>\n"
      ],
      "text/latex": [
       "A data.frame: 6 × 8\n",
       "\\begin{tabular}{r|llllllll}\n",
       "  & sample & specie & treatment & gene\\_1 & gene\\_2 & gene\\_3 & gene\\_4 & gene\\_5\\\\\n",
       "  & <fct> & <fct> & <fct> & <dbl> & <dbl> & <dbl> & <dbl> & <dbl>\\\\\n",
       "\\hline\n",
       "\tsample\\_1 & sample\\_1 & dicoccoides & High & 126 & 133 & 110 & 111 & 135\\\\\n",
       "\tsample\\_2 & sample\\_2 & dicoccoides & High & 130 & 130 & 111 & 121 & 113\\\\\n",
       "\tsample\\_3 & sample\\_3 & dicoccoides & High & 124 & 135 & 115 & 125 & 140\\\\\n",
       "\tsample\\_4 & sample\\_4 & dicoccoides & High & 111 & 109 & 135 & 135 & 132\\\\\n",
       "\tsample\\_5 & sample\\_5 & dicoccoides & Low  &  20 &  34 &   9 &  17 &  37\\\\\n",
       "\tsample\\_6 & sample\\_6 & dicoccoides & Low  &  32 &  26 &  21 &   1 &  24\\\\\n",
       "\\end{tabular}\n"
      ],
      "text/markdown": [
       "\n",
       "A data.frame: 6 × 8\n",
       "\n",
       "| <!--/--> | sample &lt;fct&gt; | specie &lt;fct&gt; | treatment &lt;fct&gt; | gene_1 &lt;dbl&gt; | gene_2 &lt;dbl&gt; | gene_3 &lt;dbl&gt; | gene_4 &lt;dbl&gt; | gene_5 &lt;dbl&gt; |\n",
       "|---|---|---|---|---|---|---|---|---|\n",
       "| sample_1 | sample_1 | dicoccoides | High | 126 | 133 | 110 | 111 | 135 |\n",
       "| sample_2 | sample_2 | dicoccoides | High | 130 | 130 | 111 | 121 | 113 |\n",
       "| sample_3 | sample_3 | dicoccoides | High | 124 | 135 | 115 | 125 | 140 |\n",
       "| sample_4 | sample_4 | dicoccoides | High | 111 | 109 | 135 | 135 | 132 |\n",
       "| sample_5 | sample_5 | dicoccoides | Low  |  20 |  34 |   9 |  17 |  37 |\n",
       "| sample_6 | sample_6 | dicoccoides | Low  |  32 |  26 |  21 |   1 |  24 |\n",
       "\n"
      ],
      "text/plain": [
       "         sample   specie      treatment gene_1 gene_2 gene_3 gene_4 gene_5\n",
       "sample_1 sample_1 dicoccoides High      126    133    110    111    135   \n",
       "sample_2 sample_2 dicoccoides High      130    130    111    121    113   \n",
       "sample_3 sample_3 dicoccoides High      124    135    115    125    140   \n",
       "sample_4 sample_4 dicoccoides High      111    109    135    135    132   \n",
       "sample_5 sample_5 dicoccoides Low        20     34      9     17     37   \n",
       "sample_6 sample_6 dicoccoides Low        32     26     21      1     24   "
      ]
     },
     "metadata": {},
     "output_type": "display_data"
    }
   ],
   "source": [
    "# Build dataset (just copy and paste, this is NOT interesting)\n",
    "# 生成数据，可以跳过\n",
    "sample <- paste(rep(\"sample_\",24) , seq(1,24) , sep=\"\")\n",
    "specie <- c(rep(\"dicoccoides\" , 8) , rep(\"dicoccum\" , 8) , rep(\"durum\" , 8))\n",
    "treatment <- rep(c(rep(\"High\",4 ) , rep(\"Low\",4)),3)\n",
    "data <- data.frame(sample,specie,treatment)\n",
    "for (i in seq(1:5)){\n",
    "      gene=sample(c(1:40) , 24 )\n",
    "      data=cbind(data , gene)\n",
    "      colnames(data)[ncol(data)]=paste(\"gene_\",i,sep=\"\")\n",
    "     }\n",
    "data[data$treatment==\"High\" , c(4:8)]=data[data$treatment==\"High\" , c(4:8)]+100\n",
    "data[data$specie==\"durum\" , c(4:8)]=data[data$specie==\"durum\" , c(4:8)]-30\n",
    "rownames(data) <- data[,1]    \n",
    "head(data)"
   ]
  },
  {
   "cell_type": "markdown",
   "metadata": {},
   "source": [
    "**然后聚类**"
   ]
  },
  {
   "cell_type": "code",
   "execution_count": 59,
   "metadata": {},
   "outputs": [
    {
     "data": {
      "text/plain": [
       "'dendrogram' with 2 branches and 24 members total, at height 328.8632 "
      ]
     },
     "metadata": {},
     "output_type": "display_data"
    }
   ],
   "source": [
    "# Compute Euclidean distance between samples\n",
    "dist=dist(data[ , c(4:8)] , diag=TRUE)\n",
    "\n",
    "# Perfor clustering with hclust\n",
    "# 聚类并保存结果\n",
    "hc <- hclust(dist)\n",
    "dhc <- as.dendrogram(hc)\n",
    "dhc"
   ]
  },
  {
   "cell_type": "markdown",
   "metadata": {},
   "source": [
    "对于每个节点都有自己的属性"
   ]
  },
  {
   "cell_type": "code",
   "execution_count": 60,
   "metadata": {},
   "outputs": [
    {
     "data": {
      "text/plain": [
       "'dendrogram' with 2 branches and 2 members total, at height 23.81176 "
      ]
     },
     "metadata": {},
     "output_type": "display_data"
    },
    {
     "data": {
      "text/html": [
       "<dl>\n",
       "\t<dt>$members</dt>\n",
       "\t\t<dd>2</dd>\n",
       "\t<dt>$midpoint</dt>\n",
       "\t\t<dd>0.5</dd>\n",
       "\t<dt>$height</dt>\n",
       "\t\t<dd>23.8117617995813</dd>\n",
       "\t<dt>$class</dt>\n",
       "\t\t<dd>'dendrogram'</dd>\n",
       "</dl>\n"
      ],
      "text/latex": [
       "\\begin{description}\n",
       "\\item[\\$members] 2\n",
       "\\item[\\$midpoint] 0.5\n",
       "\\item[\\$height] 23.8117617995813\n",
       "\\item[\\$class] 'dendrogram'\n",
       "\\end{description}\n"
      ],
      "text/markdown": [
       "$members\n",
       ":   2\n",
       "$midpoint\n",
       ":   0.5\n",
       "$height\n",
       ":   23.8117617995813\n",
       "$class\n",
       ":   'dendrogram'\n",
       "\n",
       "\n"
      ],
      "text/plain": [
       "$members\n",
       "[1] 2\n",
       "\n",
       "$midpoint\n",
       "[1] 0.5\n",
       "\n",
       "$height\n",
       "[1] 23.81176\n",
       "\n",
       "$class\n",
       "[1] \"dendrogram\"\n"
      ]
     },
     "metadata": {},
     "output_type": "display_data"
    }
   ],
   "source": [
    "# Actually, each leaf of the tree has several attributes, like the color, the shape.. Have a look to it: \n",
    "# 选择特别的节点\n",
    "specific_leaf <- dhc[[1]][[1]][[1]]\n",
    "specific_leaf\n",
    "attributes(specific_leaf)"
   ]
  },
  {
   "cell_type": "markdown",
   "metadata": {},
   "source": [
    "**创建改变叶子节点属性函数**\n",
    "\n",
    "如果想给树的每片叶子上色，必须改变每片叶子的属性。这可以使用dendrapply函数来完成。因此，创建了一个函数，向叶子节点添加属性。如果应用自己的数据，改变treatment和specie的值就行了。"
   ]
  },
  {
   "cell_type": "code",
   "execution_count": 61,
   "metadata": {},
   "outputs": [],
   "source": [
    "i=0\n",
    "colLab<-function(n)\n",
    "{\n",
    "    # 判断是否为节点\n",
    "    if(is.leaf(n))\n",
    "    {\n",
    "        # 获得节点的属性\n",
    "        a=attributes(n)\n",
    "        \n",
    "        # I deduce the line in the original data, and so the treatment and the specie.\n",
    "        # 获得该点的信息\n",
    "        ligne=match(attributes(n)$label,data[,1])\n",
    "        # 根据自己的结果设置\n",
    "        treatment=data[ligne,3];\n",
    "            if(treatment==\"Low\"){col_treatment=\"blue\"};if(treatment==\"High\"){col_treatment=\"red\"}\n",
    "        # 根据种类设置颜色，根据自己的结果设置\n",
    "        specie=data[ligne,2];\n",
    "            if(specie==\"dicoccoides\"){col_specie=\"red\"};if(specie==\"dicoccum\"){col_specie=\"Darkgreen\"};if(specie==\"durum\"){col_specie=\"blue\"}\n",
    "        \n",
    "        # M odification of leaf attribute\n",
    "        # 修改节点的属性\n",
    "        attr(n,\"nodePar\")<-c(a$nodePar,list(cex=1.5,lab.cex=1,pch=20,col=col_treatment,lab.col=col_specie,lab.font=1,lab.cex=1))\n",
    "        }\n",
    "    return(n)\n",
    "}"
   ]
  },
  {
   "cell_type": "markdown",
   "metadata": {},
   "source": [
    "**绘图**"
   ]
  },
  {
   "cell_type": "code",
   "execution_count": 62,
   "metadata": {},
   "outputs": [
    {
     "data": {
      "image/png": "[encoded data removed]",
      "text/plain": [
       "Plot with title \"structure of the population\""
      ]
     },
     "metadata": {
      "image/png": {
       "height": 420,
       "width": 420
      },
      "text/plain": {
       "height": 420,
       "width": 420
      }
     },
     "output_type": "display_data"
    }
   ],
   "source": [
    "# 应用函数\n",
    "dL <- dendrapply(dhc, colLab)\n",
    " \n",
    "# And the plot\n",
    "plot(dL , main=\"structure of the population\")\n",
    "# 图例\n",
    "legend(\"topright\",\n",
    "     # 文字\n",
    "     legend = c(\"High Nitrogen\" , \"Low Nitrogen\" , \"Durum\" , \"Dicoccoides\" , \"Dicoccum\"), \n",
    "     # 颜色\n",
    "     col = c(\"red\", \"blue\" , \"blue\" , \"red\" , \"Darkgreen\"), \n",
    "     pch = c(20,20,4,4,4), bty = \"n\",  pt.cex = 1.5, cex = 0.8 , \n",
    "     text.col = \"black\", horiz = FALSE, inset = c(0, 0.1))"
   ]
  },
  {
   "cell_type": "markdown",
   "metadata": {},
   "source": [
    "# 3 使用DENDEXTEND绘制树形图 MORE CUSTOMIZATION WITH DENDEXTEND\n",
    "dendextend主要是自定义层次聚类图，对第二节的补充。dendextend包允许在树状图定制方面更进一步。这里有一组例子展示了主要的可能性，比如在底部添加颜色条，面对面绘制2棵树等等。"
   ]
  },
  {
   "cell_type": "markdown",
   "metadata": {},
   "source": [
    "## 3.1 基础树形图绘制 Basic dendrogram\n",
    "DENDEXTEND首先需要绘制如下最基本的树形图，然后进行相应更改"
   ]
  },
  {
   "cell_type": "code",
   "execution_count": 63,
   "metadata": {},
   "outputs": [
    {
     "data": {
      "text/html": [
       "<table>\n",
       "<caption>A data.frame: 6 × 11</caption>\n",
       "<thead>\n",
       "\t<tr><th></th><th scope=col>mpg</th><th scope=col>cyl</th><th scope=col>disp</th><th scope=col>hp</th><th scope=col>drat</th><th scope=col>wt</th><th scope=col>qsec</th><th scope=col>vs</th><th scope=col>am</th><th scope=col>gear</th><th scope=col>carb</th></tr>\n",
       "\t<tr><th></th><th scope=col>&lt;dbl&gt;</th><th scope=col>&lt;dbl&gt;</th><th scope=col>&lt;dbl&gt;</th><th scope=col>&lt;dbl&gt;</th><th scope=col>&lt;dbl&gt;</th><th scope=col>&lt;dbl&gt;</th><th scope=col>&lt;dbl&gt;</th><th scope=col>&lt;dbl&gt;</th><th scope=col>&lt;dbl&gt;</th><th scope=col>&lt;dbl&gt;</th><th scope=col>&lt;dbl&gt;</th></tr>\n",
       "</thead>\n",
       "<tbody>\n",
       "\t<tr><th scope=row>Mazda RX4</th><td>21.0</td><td>6</td><td>160</td><td>110</td><td>3.90</td><td>2.620</td><td>16.46</td><td>0</td><td>1</td><td>4</td><td>4</td></tr>\n",
       "\t<tr><th scope=row>Mazda RX4 Wag</th><td>21.0</td><td>6</td><td>160</td><td>110</td><td>3.90</td><td>2.875</td><td>17.02</td><td>0</td><td>1</td><td>4</td><td>4</td></tr>\n",
       "\t<tr><th scope=row>Datsun 710</th><td>22.8</td><td>4</td><td>108</td><td> 93</td><td>3.85</td><td>2.320</td><td>18.61</td><td>1</td><td>1</td><td>4</td><td>1</td></tr>\n",
       "\t<tr><th scope=row>Hornet 4 Drive</th><td>21.4</td><td>6</td><td>258</td><td>110</td><td>3.08</td><td>3.215</td><td>19.44</td><td>1</td><td>0</td><td>3</td><td>1</td></tr>\n",
       "\t<tr><th scope=row>Hornet Sportabout</th><td>18.7</td><td>8</td><td>360</td><td>175</td><td>3.15</td><td>3.440</td><td>17.02</td><td>0</td><td>0</td><td>3</td><td>2</td></tr>\n",
       "\t<tr><th scope=row>Valiant</th><td>18.1</td><td>6</td><td>225</td><td>105</td><td>2.76</td><td>3.460</td><td>20.22</td><td>1</td><td>0</td><td>3</td><td>1</td></tr>\n",
       "</tbody>\n",
       "</table>\n"
      ],
      "text/latex": [
       "A data.frame: 6 × 11\n",
       "\\begin{tabular}{r|lllllllllll}\n",
       "  & mpg & cyl & disp & hp & drat & wt & qsec & vs & am & gear & carb\\\\\n",
       "  & <dbl> & <dbl> & <dbl> & <dbl> & <dbl> & <dbl> & <dbl> & <dbl> & <dbl> & <dbl> & <dbl>\\\\\n",
       "\\hline\n",
       "\tMazda RX4 & 21.0 & 6 & 160 & 110 & 3.90 & 2.620 & 16.46 & 0 & 1 & 4 & 4\\\\\n",
       "\tMazda RX4 Wag & 21.0 & 6 & 160 & 110 & 3.90 & 2.875 & 17.02 & 0 & 1 & 4 & 4\\\\\n",
       "\tDatsun 710 & 22.8 & 4 & 108 &  93 & 3.85 & 2.320 & 18.61 & 1 & 1 & 4 & 1\\\\\n",
       "\tHornet 4 Drive & 21.4 & 6 & 258 & 110 & 3.08 & 3.215 & 19.44 & 1 & 0 & 3 & 1\\\\\n",
       "\tHornet Sportabout & 18.7 & 8 & 360 & 175 & 3.15 & 3.440 & 17.02 & 0 & 0 & 3 & 2\\\\\n",
       "\tValiant & 18.1 & 6 & 225 & 105 & 2.76 & 3.460 & 20.22 & 1 & 0 & 3 & 1\\\\\n",
       "\\end{tabular}\n"
      ],
      "text/markdown": [
       "\n",
       "A data.frame: 6 × 11\n",
       "\n",
       "| <!--/--> | mpg &lt;dbl&gt; | cyl &lt;dbl&gt; | disp &lt;dbl&gt; | hp &lt;dbl&gt; | drat &lt;dbl&gt; | wt &lt;dbl&gt; | qsec &lt;dbl&gt; | vs &lt;dbl&gt; | am &lt;dbl&gt; | gear &lt;dbl&gt; | carb &lt;dbl&gt; |\n",
       "|---|---|---|---|---|---|---|---|---|---|---|---|\n",
       "| Mazda RX4 | 21.0 | 6 | 160 | 110 | 3.90 | 2.620 | 16.46 | 0 | 1 | 4 | 4 |\n",
       "| Mazda RX4 Wag | 21.0 | 6 | 160 | 110 | 3.90 | 2.875 | 17.02 | 0 | 1 | 4 | 4 |\n",
       "| Datsun 710 | 22.8 | 4 | 108 |  93 | 3.85 | 2.320 | 18.61 | 1 | 1 | 4 | 1 |\n",
       "| Hornet 4 Drive | 21.4 | 6 | 258 | 110 | 3.08 | 3.215 | 19.44 | 1 | 0 | 3 | 1 |\n",
       "| Hornet Sportabout | 18.7 | 8 | 360 | 175 | 3.15 | 3.440 | 17.02 | 0 | 0 | 3 | 2 |\n",
       "| Valiant | 18.1 | 6 | 225 | 105 | 2.76 | 3.460 | 20.22 | 1 | 0 | 3 | 1 |\n",
       "\n"
      ],
      "text/plain": [
       "                  mpg  cyl disp hp  drat wt    qsec  vs am gear carb\n",
       "Mazda RX4         21.0 6   160  110 3.90 2.620 16.46 0  1  4    4   \n",
       "Mazda RX4 Wag     21.0 6   160  110 3.90 2.875 17.02 0  1  4    4   \n",
       "Datsun 710        22.8 4   108   93 3.85 2.320 18.61 1  1  4    1   \n",
       "Hornet 4 Drive    21.4 6   258  110 3.08 3.215 19.44 1  0  3    1   \n",
       "Hornet Sportabout 18.7 8   360  175 3.15 3.440 17.02 0  0  3    2   \n",
       "Valiant           18.1 6   225  105 2.76 3.460 20.22 1  0  3    1   "
      ]
     },
     "metadata": {},
     "output_type": "display_data"
    },
    {
     "data": {
      "image/png": "[encoded data removed]",
      "text/plain": [
       "plot without title"
      ]
     },
     "metadata": {
      "image/png": {
       "height": 420,
       "width": 420
      },
      "text/plain": {
       "height": 420,
       "width": 420
      }
     },
     "output_type": "display_data"
    }
   ],
   "source": [
    "# Library\n",
    "library(tidyverse)\n",
    " \n",
    "# Data\n",
    "head(mtcars)\n",
    " \n",
    "# Clusterisation using 3 variables\n",
    "# 聚类，使用管道\n",
    "mtcars %>% \n",
    "  select(mpg, cyl, disp) %>% \n",
    "  dist() %>% \n",
    "  hclust() %>% \n",
    "  as.dendrogram() -> dend\n",
    " \n",
    "# Plot\n",
    "# 绘图\n",
    "par(mar=c(7,3,1,1))  # Increase bottom margin to have the complete label\n",
    "plot(dend)"
   ]
  },
  {
   "cell_type": "markdown",
   "metadata": {},
   "source": [
    "## 3.2 set函数 The set() function\n",
    "dendextend的set()函数允许修改树的特定部分的属性。例如，您可以为分支和标签自定义cex、lwd、col、lty。也可以自定义节点或叶。下面的代码说明了这一概念："
   ]
  },
  {
   "cell_type": "markdown",
   "metadata": {},
   "source": [
    "**自定义树枝和标签**"
   ]
  },
  {
   "cell_type": "code",
   "execution_count": 64,
   "metadata": {},
   "outputs": [
    {
     "data": {
      "image/png": "[encoded data removed]",
      "text/plain": [
       "plot without title"
      ]
     },
     "metadata": {
      "image/png": {
       "height": 420,
       "width": 420
      },
      "text/plain": {
       "height": 420,
       "width": 420
      }
     },
     "output_type": "display_data"
    }
   ],
   "source": [
    "# library\n",
    "library(dendextend)\n",
    "\n",
    "# 绘图dend是设置函数\n",
    "dend %>% \n",
    "    # Custom branches\n",
    "    # 自定义树枝的颜色\n",
    "    set(\"branches_col\", \"red\") %>% \n",
    "    # 自定义树枝宽度\n",
    "    set(\"branches_lwd\", 3) %>%\n",
    "    # Custom labels\n",
    "    # 自定义标签颜色\n",
    "    set(\"labels_col\", \"blue\") %>% \n",
    "    # 自定义标签字体大小\n",
    "    set(\"labels_cex\", 0.8) %>%\n",
    "    plot()"
   ]
  },
  {
   "cell_type": "markdown",
   "metadata": {},
   "source": [
    "**自定义树枝节点**"
   ]
  },
  {
   "cell_type": "code",
   "execution_count": 65,
   "metadata": {},
   "outputs": [
    {
     "data": {
      "image/png": "[encoded data removed]",
      "text/plain": [
       "plot without title"
      ]
     },
     "metadata": {
      "image/png": {
       "height": 420,
       "width": 420
      },
      "text/plain": {
       "height": 420,
       "width": 420
      }
     },
     "output_type": "display_data"
    }
   ],
   "source": [
    "dend %>% \n",
    "    # 自定义树枝节点形状\n",
    "    set(\"nodes_pch\", 20)  %>% \n",
    "    # 自定义树枝节点大小\n",
    "    set(\"nodes_cex\", 1.5) %>% \n",
    "    # 自定义树枝节点颜色\n",
    "    set(\"nodes_col\", \"red\") %>% \n",
    "    plot()"
   ]
  },
  {
   "cell_type": "markdown",
   "metadata": {},
   "source": [
    "**自定义叶子**"
   ]
  },
  {
   "cell_type": "code",
   "execution_count": 66,
   "metadata": {},
   "outputs": [
    {
     "data": {
      "image/png": "[encoded data removed]",
      "text/plain": [
       "plot without title"
      ]
     },
     "metadata": {
      "image/png": {
       "height": 420,
       "width": 420
      },
      "text/plain": {
       "height": 420,
       "width": 420
      }
     },
     "output_type": "display_data"
    }
   ],
   "source": [
    "dend %>% \n",
    "    # 最后一层节点形状\n",
    "    set(\"leaves_pch\", 22)  %>% \n",
    "    # 最后一层节点宽度\n",
    "    set(\"leaves_cex\", 1) %>%\n",
    "    # 最后一层节点颜色\n",
    "    set(\"leaves_col\", \"red\") %>% \n",
    "    plot()"
   ]
  },
  {
   "cell_type": "markdown",
   "metadata": {},
   "source": [
    "## 3.3 聚类结果突出 Highlight clusters\n",
    "dendextend库有一些很好的功能来突出树簇。可以根据分支的簇属性为分支和标签上色，指定所需的簇数。这个 rect.dendrogram()函数甚至允许用矩形突出显示一个或多个特定的簇。"
   ]
  },
  {
   "cell_type": "markdown",
   "metadata": {},
   "source": [
    "**基于颜色突出聚类结果**"
   ]
  },
  {
   "cell_type": "code",
   "execution_count": 67,
   "metadata": {},
   "outputs": [
    {
     "data": {
      "image/png": "[encoded data removed]",
      "text/plain": [
       "plot without title"
      ]
     },
     "metadata": {
      "image/png": {
       "height": 420,
       "width": 420
      },
      "text/plain": {
       "height": 420,
       "width": 420
      }
     },
     "output_type": "display_data"
    }
   ],
   "source": [
    "\n",
    "par(mar=c(1,1,1,7))\n",
    "dend %>%\n",
    "    # 根据第一层分支结果自定义标签颜色\n",
    "    set(\"labels_col\", value = c(\"skyblue\", \"orange\", \"grey\"), k=3) %>%\n",
    "    # 根据第一层分支结果自定义分支颜色\n",
    "    set(\"branches_k_color\", value = c(\"skyblue\", \"orange\", \"grey\"), k = 3) %>%\n",
    "    # horize是否水平放置,axes是否显示旁边的距离尺\n",
    "    plot(horiz=TRUE, axes=FALSE)\n",
    "# 画线条，v高度，lty线条类型\n",
    "abline(v = 350, lty = 2)"
   ]
  },
  {
   "cell_type": "markdown",
   "metadata": {},
   "source": [
    "**基于矩形框突出聚类结果**"
   ]
  },
  {
   "cell_type": "code",
   "execution_count": 68,
   "metadata": {},
   "outputs": [
    {
     "data": {
      "image/png": "[encoded data removed]",
      "text/plain": [
       "plot without title"
      ]
     },
     "metadata": {
      "image/png": {
       "height": 420,
       "width": 420
      },
      "text/plain": {
       "height": 420,
       "width": 420
      }
     },
     "output_type": "display_data"
    }
   ],
   "source": [
    "# 使用\n",
    "par(mar=c(9,1,1,1))\n",
    "dend %>%\n",
    "    set(\"labels_col\", value = c(\"skyblue\", \"orange\", \"grey\"), k=3) %>%\n",
    "    set(\"branches_k_color\", value = c(\"skyblue\", \"orange\", \"grey\"), k = 3) %>%\n",
    "    plot(axes=FALSE)\n",
    "# 画矩形框\n",
    "# k表示将类切割为k个簇，lty矩形框线条类型，lwd矩形框线条宽度，col填充颜色,x表示从第几个类开始画簇\n",
    "rect.dendrogram( dend, k=3, lty = 2, lwd = 5, x=17, col=rgb(0.1, 0.2, 0.4, 0.1) ) "
   ]
  },
  {
   "cell_type": "markdown",
   "metadata": {},
   "source": [
    "## 3.4 与预期的聚类结果相比较 Comparing with an expected clustering\n",
    "将得到的集群与预期的分布进行比较是一项常见的任务。在我们用来构建树状图的mtcars数据集中，有一个am列是一个二进制变量。如果我们可以用cluster()函数来检查与这个变量是否一致。"
   ]
  },
  {
   "cell_type": "code",
   "execution_count": 69,
   "metadata": {},
   "outputs": [
    {
     "data": {
      "image/png": "[encoded data removed]",
      "text/plain": [
       "plot without title"
      ]
     },
     "metadata": {
      "image/png": {
       "height": 420,
       "width": 420
      },
      "text/plain": {
       "height": 420,
       "width": 420
      }
     },
     "output_type": "display_data"
    }
   ],
   "source": [
    "\n",
    "# Create a vector of colors, darkgreen if am is 0, green if 1.\n",
    "# 获得数据，如果am为0就是forestgreen颜色\n",
    "my_colors <- ifelse(mtcars$am==0, \"forestgreen\", \"green\")\n",
    " \n",
    "# Make the dendrogram\n",
    "# 设置图像空白区域\n",
    "par(mar=c(10,1,1,1))\n",
    "dend %>%\n",
    "    set(\"labels_col\", value = c(\"skyblue\", \"orange\", \"grey\"), k=3) %>%\n",
    "    set(\"branches_k_color\", value = c(\"skyblue\", \"orange\", \"grey\"), k = 3) %>%\n",
    "    set(\"leaves_pch\", 19)  %>% \n",
    "    set(\"nodes_cex\", 0.7) %>% \n",
    "    plot(axes=FALSE,horiz =FALSE)\n",
    " \n",
    "# Add the colored bar\n",
    "# 添加颜色bar\n",
    "# colors颜色，dend聚类图，rowLabels名字\n",
    "colored_bars(colors = my_colors, dend = dend, rowLabels = \"am\",horiz =FALSE)"
   ]
  },
  {
   "cell_type": "markdown",
   "metadata": {},
   "source": [
    "## 3.5 基于tanglegram()比较2个树状图 Comparing 2 dendrograms with tanglegram()\n",
    "可以使用tanglegram()函数比较两个树状图。这里它说明了一个非常重要的概念：当你计算你的距离矩阵和当你运行你的层次聚类算法时，你不能简单地使用默认选项而不考虑你在做什么。看看两种不同的集群化方法之间的区别吧。"
   ]
  },
  {
   "cell_type": "code",
   "execution_count": 70,
   "metadata": {},
   "outputs": [
    {
     "data": {
      "image/png": "[encoded data removed]",
      "text/plain": [
       "Plot with title \"\""
      ]
     },
     "metadata": {
      "image/png": {
       "height": 420,
       "width": 420
      },
      "text/plain": {
       "height": 420,
       "width": 420
      }
     },
     "output_type": "display_data"
    }
   ],
   "source": [
    "# Make 2 dendrograms, using 2 different clustering methods\n",
    "# 使用两种完全不同的聚类方法\n",
    "d1 <- USArrests %>% dist() %>% hclust( method=\"average\" ) %>% as.dendrogram()\n",
    "d2 <- USArrests %>% dist() %>% hclust( method=\"complete\" ) %>% as.dendrogram()\n",
    " \n",
    "# Custom these kendo, and place them in a list\n",
    "# 定制树列表\n",
    "dl <- dendlist(\n",
    "  d1 %>% \n",
    "    set(\"labels_col\", value = c(\"skyblue\", \"orange\", \"grey\"), k=3) %>%\n",
    "    set(\"branches_lty\", 1) %>%\n",
    "    set(\"branches_k_color\", value = c(\"skyblue\", \"orange\", \"grey\"), k = 3),\n",
    "  d2 %>% \n",
    "    set(\"labels_col\", value = c(\"skyblue\", \"orange\", \"grey\"), k=3) %>%\n",
    "    set(\"branches_lty\", 1) %>%\n",
    "    set(\"branches_k_color\", value = c(\"skyblue\", \"orange\", \"grey\"), k = 3)\n",
    ")\n",
    " \n",
    "# Plot them together\n",
    "tanglegram(dl, \n",
    "            # 子树是否带颜色\n",
    "            common_subtrees_color_lines = FALSE, \n",
    "            # 是否突出显示边\n",
    "            highlight_distinct_edges  = TRUE, \n",
    "            # 是否突出分支\n",
    "            highlight_branches_lwd=FALSE, \n",
    "            # 两个树的距离\n",
    "            margin_inner=7,\n",
    "            # 两个树之间线条宽度\n",
    "            lwd=2\n",
    ")"
   ]
  },
  {
   "cell_type": "markdown",
   "metadata": {},
   "source": [
    "# 4 参考\n",
    "+ [Dendrogram](https://www.r-graph-gallery.com/dendrogram.html)\n",
    "+ [基于matplotlib实现树形图的绘制](https://blog.csdn.net/luohenyj/article/details/97949476)"
   ]
  }
 ],
 "metadata": {
  "kernelspec": {
   "display_name": "R",
   "language": "R",
   "name": "ir"
  },
  "language_info": {
   "codemirror_mode": "r",
   "file_extension": ".r",
   "mimetype": "text/x-r-source",
   "name": "R",
   "pygments_lexer": "r",
   "version": "3.6.0"
  }
 },
 "nbformat": 4,
 "nbformat_minor": 2
}
